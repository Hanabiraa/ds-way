{
 "cells": [
  {
   "cell_type": "markdown",
   "id": "5ce47e5f-5da8-4be1-bca5-4f70d04e14e5",
   "metadata": {},
   "source": [
    "#### 1. Сколько чисел от 1 до 9999 (включая 1 и 9999) не имеют в своей десятичной записи одинаковых подряд идущих цифр? (к примеру, не подходят 1488, 2259, 3233)"
   ]
  },
  {
   "cell_type": "code",
   "execution_count": 15,
   "id": "1e38a8ee-1cb3-4734-b177-dac763bdc092",
   "metadata": {},
   "outputs": [
    {
     "data": {
      "text/plain": [
       "5274"
      ]
     },
     "execution_count": 15,
     "metadata": {},
     "output_type": "execute_result"
    }
   ],
   "source": [
    "# ответ\n",
    "acc = 0\n",
    "for i in range(1, 10000):\n",
    "    if len(str(i)) != len(set(str(i))):\n",
    "        acc += 1\n",
    "        \n",
    "9999 - acc"
   ]
  },
  {
   "cell_type": "code",
   "execution_count": null,
   "id": "65f19e9e-b0a0-4401-a8dc-bdef6ef41633",
   "metadata": {},
   "outputs": [],
   "source": []
  }
 ],
 "metadata": {
  "kernelspec": {
   "display_name": "ds-env",
   "language": "python",
   "name": "ds-env"
  },
  "language_info": {
   "codemirror_mode": {
    "name": "ipython",
    "version": 3
   },
   "file_extension": ".py",
   "mimetype": "text/x-python",
   "name": "python",
   "nbconvert_exporter": "python",
   "pygments_lexer": "ipython3",
   "version": "3.9.6"
  }
 },
 "nbformat": 4,
 "nbformat_minor": 5
}
