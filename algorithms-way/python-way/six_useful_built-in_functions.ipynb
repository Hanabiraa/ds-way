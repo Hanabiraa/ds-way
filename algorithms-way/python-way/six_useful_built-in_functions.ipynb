{
 "cells": [
  {
   "cell_type": "markdown",
   "id": "f8594b80-1b80-45f4-8bc0-3d1e67a5b963",
   "metadata": {},
   "source": [
    "# six useful built-in functions\n",
    "## all, any, zip, enumerate, filter, map\n",
    "\n",
    "This notebook covers this article -> [Python для начинающих: all, any, zip, enumerate, filter, map](https://nuancesprog.ru/p/14074/)"
   ]
  },
  {
   "cell_type": "markdown",
   "id": "d7480a0c-d9c5-46c5-9312-b563d4e22642",
   "metadata": {},
   "source": [
    "## all(iterable)"
   ]
  },
  {
   "cell_type": "markdown",
   "id": "bebcb966-9d18-4089-bc2b-e7e824123433",
   "metadata": {},
   "source": [
    "**Docs:** Return True if all elements of the iterable are true (or if the iterable is empty). Equivalent to:"
   ]
  },
  {
   "cell_type": "code",
   "execution_count": 1,
   "id": "624db9b0-8362-4223-943c-b440e30092ae",
   "metadata": {},
   "outputs": [],
   "source": [
    "def all(iterable):\n",
    "    for element in iterable:\n",
    "        if not element:\n",
    "            return False\n",
    "    return True"
   ]
  },
  {
   "cell_type": "code",
   "execution_count": 14,
   "id": "428726a8-ab25-4e4e-a4f4-28616acc0ab9",
   "metadata": {},
   "outputs": [
    {
     "name": "stdout",
     "output_type": "stream",
     "text": [
      "arr: [True, True] result: True\n",
      "arr: [False, True] result: False\n",
      "arr: ['Hello', -0.5, True] result: True\n"
     ]
    }
   ],
   "source": [
    "# examples:\n",
    "good_arr = [True, True]\n",
    "bad_arr  = [False, True]\n",
    "strange_arr = ['Hello', -0.5, True]\n",
    "\n",
    "print('arr: {0} result: {1}'.format(good_arr, all(good_arr)))\n",
    "print('arr: {0} result: {1}'.format(bad_arr, all(bad_arr)))\n",
    "print('arr: {0} result: {1}'.format(strange_arr, all(strange_arr)))\n",
    "\n",
    "# all({0: \"Hello\", 1: \"World\"}) # False\n",
    "# all({\"Hello World\": -1.75, 5: 6}) # True"
   ]
  },
  {
   "cell_type": "markdown",
   "id": "5f0e3d23-83ee-4929-ac70-0d2d56f4ec04",
   "metadata": {},
   "source": [
    "## any(iterable)"
   ]
  },
  {
   "cell_type": "markdown",
   "id": "4eeca885-ff58-40c6-ad52-7c7ee8aed411",
   "metadata": {},
   "source": [
    "**Docs:** Return True if any element of the iterable is true. If the iterable is empty, return False. Equivalent to:\n",
    "\n"
   ]
  },
  {
   "cell_type": "code",
   "execution_count": 15,
   "id": "d2065db7-23a7-4e35-ace0-026ffae99679",
   "metadata": {},
   "outputs": [],
   "source": [
    "def any(iterable):\n",
    "    for element in iterable:\n",
    "        if element:\n",
    "            return True\n",
    "    return False"
   ]
  },
  {
   "cell_type": "code",
   "execution_count": 17,
   "id": "2866b33d-f045-45eb-b442-a70a6163155d",
   "metadata": {},
   "outputs": [
    {
     "name": "stdout",
     "output_type": "stream",
     "text": [
      "arr: [7.5, False, 0] result: True\n",
      "arr: ['', 0, 'Hi'] result: True\n",
      "arr: [0, '', ''] result: False\n"
     ]
    }
   ],
   "source": [
    "good_arr = [7.5, False, 0]\n",
    "bad_arr  = [\"\", 0, \"Hi\"]\n",
    "strange_arr = [0, '', \"\"]\n",
    "\n",
    "print('arr: {0} result: {1}'.format(good_arr, any(good_arr)))\n",
    "print('arr: {0} result: {1}'.format(bad_arr, any(bad_arr)))\n",
    "print('arr: {0} result: {1}'.format(strange_arr, any(strange_arr)))\n",
    "\n",
    "# any({'', -0.5, 0}) # True\n",
    "# any({'': False, 1.5: False}) # True\n",
    "# any({\"\": True, False: 6}) # False"
   ]
  },
  {
   "cell_type": "markdown",
   "id": "2a58dcf2-ee00-4c27-940e-240f9b132e1b",
   "metadata": {},
   "source": [
    "## zip(iterable1, iterable2, iterable3, ...)"
   ]
  },
  {
   "cell_type": "markdown",
   "id": "b2964d50-1a2a-4cb0-9da6-5de083a2b047",
   "metadata": {},
   "source": [
    "**Docs:** Iterate over several iterables in parallel, producing tuples with an item from each one.\n",
    "\n",
    "> More formally: zip() returns an iterator of tuples, where the i-th tuple contains the i-th element from each of the argument iterables.\n",
    "\n",
    "> **Another way to think of zip() is that it turns rows into columns, and columns into rows. This is similar to transposing a matrix.**"
   ]
  },
  {
   "cell_type": "code",
   "execution_count": 18,
   "id": "ce05980f-4b65-43df-8940-4b606c7d5480",
   "metadata": {},
   "outputs": [
    {
     "name": "stdout",
     "output_type": "stream",
     "text": [
      "(1, 'sugar')\n",
      "(2, 'spice')\n",
      "(3, 'everything nice')\n"
     ]
    }
   ],
   "source": [
    "for item in zip([1, 2, 3], ['sugar', 'spice', 'everything nice']):\n",
    "    print(item)"
   ]
  },
  {
   "cell_type": "code",
   "execution_count": 25,
   "id": "449bba0e-cb57-4614-8341-c1892fa7fd53",
   "metadata": {},
   "outputs": [
    {
     "data": {
      "text/plain": [
       "[(0, 'fee'), (1, 'fi'), (2, 'fo')]"
      ]
     },
     "execution_count": 25,
     "metadata": {},
     "output_type": "execute_result"
    }
   ],
   "source": [
    "list(zip(range(3), ['fee', 'fi', 'fo', 'fum']))"
   ]
  },
  {
   "cell_type": "markdown",
   "id": "9c654094-b479-4035-81bd-daeddb3d9cc3",
   "metadata": {},
   "source": [
    "Tips and tricks:\n",
    "\n",
    "* The left-to-right evaluation order of the iterables is guaranteed. This makes possible an idiom for clustering a data series into n-length groups using zip(*[iter(s)]*n, strict=True). This repeats the same iterator n times so that each output tuple has the result of n calls to the iterator. This has the effect of dividing the input into n-length chunks.\n",
    "\n",
    "* zip() in conjunction with the * operator can be used to unzip a list:"
   ]
  },
  {
   "cell_type": "code",
   "execution_count": 27,
   "id": "f23b174b-0166-46f9-af8f-876b351f17cc",
   "metadata": {},
   "outputs": [
    {
     "data": {
      "text/plain": [
       "[(1, 4), (2, 5), (3, 6)]"
      ]
     },
     "execution_count": 27,
     "metadata": {},
     "output_type": "execute_result"
    }
   ],
   "source": [
    "x = [1, 2, 3]\n",
    "y = [4, 5, 6]\n",
    "list(zip(x, y))"
   ]
  },
  {
   "cell_type": "code",
   "execution_count": 28,
   "id": "070db535-796b-4a45-87a2-cc4e1f4f1d26",
   "metadata": {},
   "outputs": [
    {
     "data": {
      "text/plain": [
       "True"
      ]
     },
     "execution_count": 28,
     "metadata": {},
     "output_type": "execute_result"
    }
   ],
   "source": [
    "x2, y2 = zip(*zip(x, y))\n",
    "x == list(x2) and y == list(y2)"
   ]
  },
  {
   "cell_type": "markdown",
   "id": "f717aab8-4dc7-49ef-9049-a80246e8ed13",
   "metadata": {},
   "source": [
    "## enumerate(iterable, start=0)\n"
   ]
  },
  {
   "cell_type": "markdown",
   "id": "9808ac3d-ef53-4b8b-9e7c-568d47da678d",
   "metadata": {},
   "source": [
    "The enumerate () function is most often used to loop through a list. After passing an iterable object as a parameter, the function returns a list of tuples, where each tuple contains the element's index and the element itself. The function returns a special enumerate object, so later you will still have to convert it to a list or a tuple."
   ]
  },
  {
   "cell_type": "markdown",
   "id": "d1b5386b-053d-448a-930a-7d2502217fa9",
   "metadata": {},
   "source": [
    "**Docs:** Return an enumerate object. iterable must be a sequence, an iterator, or some other object which supports iteration. The __next__() method of the iterator returned by enumerate() returns a tuple containing a count (from start which defaults to 0) and the values obtained from iterating over iterable."
   ]
  },
  {
   "cell_type": "markdown",
   "id": "e114ede9-ce8f-4c71-8f17-9a2e48021dfd",
   "metadata": {},
   "source": [
    "Equivalent to:\n",
    "\n"
   ]
  },
  {
   "cell_type": "code",
   "execution_count": 33,
   "id": "c7b7e823-432e-4ffe-9dc5-8fbdefc005e3",
   "metadata": {},
   "outputs": [],
   "source": [
    "def enumerate(sequence, start=0):\n",
    "    n = start\n",
    "    for elem in sequence:\n",
    "        yield n, elem\n",
    "        n += 1"
   ]
  },
  {
   "cell_type": "code",
   "execution_count": 29,
   "id": "2ad89bb4-fca3-4e85-9ac4-08d6ac570796",
   "metadata": {},
   "outputs": [
    {
     "name": "stdout",
     "output_type": "stream",
     "text": [
      "[(0, 'Johnny'), (1, 'Adam'), (2, 'Mark')]\n"
     ]
    }
   ],
   "source": [
    "names = [\"Johnny\", \"Adam\", \"Mark\"]\n",
    "enum_names = list(enumerate(names))\n",
    "print(enum_names)"
   ]
  },
  {
   "cell_type": "code",
   "execution_count": 32,
   "id": "c7e72cbe-3e75-4aa7-ba4d-0003bbbe1fc6",
   "metadata": {},
   "outputs": [
    {
     "name": "stdout",
     "output_type": "stream",
     "text": [
      "[(4, 'Johnny'), (5, 'Adam'), (6, 'Mark')]\n"
     ]
    }
   ],
   "source": [
    "names = [\"Johnny\", \"Adam\", \"Mark\"]\n",
    "enum_names = list(enumerate(names, start=4))\n",
    "print(enum_names)"
   ]
  },
  {
   "cell_type": "markdown",
   "id": "d11b0de9-2803-42bc-90a9-30a166f35c07",
   "metadata": {
    "tags": []
   },
   "source": [
    "## filter (function, iterable)"
   ]
  },
  {
   "cell_type": "markdown",
   "id": "d7268b54-4e6d-4bb4-a81f-3caa0f40a7ee",
   "metadata": {},
   "source": [
    "**Docs:** Construct an iterator from those elements of iterable for which function returns true. iterable may be either a sequence, a container which supports iteration, or an iterator. If function is None, the identity function is assumed, that is, all elements of iterable that are false are removed."
   ]
  },
  {
   "cell_type": "code",
   "execution_count": 38,
   "id": "f28bb1a6-fe27-4b1d-8e2b-079ba81aa285",
   "metadata": {},
   "outputs": [
    {
     "name": "stdout",
     "output_type": "stream",
     "text": [
      "[('Johnny', 22), ('Adam', 18), ('Sam', 20)]\n"
     ]
    }
   ],
   "source": [
    "people = [\n",
    "    ('Johnny', 22),\n",
    "    ('Adam', 18),\n",
    "    ('Mark', 12),\n",
    "    ('Jack', 14),\n",
    "    ('Sam', 20)]\n",
    "\n",
    "def is_adult(person):\n",
    "    return person[1] >= 18\n",
    "\n",
    "print(list(filter(is_adult, people)))"
   ]
  },
  {
   "cell_type": "code",
   "execution_count": 39,
   "id": "6d84a5a0-3672-4eca-bab7-1b4dff9cf135",
   "metadata": {},
   "outputs": [
    {
     "name": "stdout",
     "output_type": "stream",
     "text": [
      "[('Johnny', 22), ('Adam', 18), ('Sam', 20)]\n"
     ]
    }
   ],
   "source": [
    "is_adult_lambda = lambda person: person[1] >= 18\n",
    "print(list(filter(is_adult_lambda, people)))"
   ]
  },
  {
   "cell_type": "markdown",
   "id": "6d14f596-bfc2-44d1-99e1-7a2151bdef5b",
   "metadata": {},
   "source": [
    "## map (function, iterable)"
   ]
  },
  {
   "cell_type": "markdown",
   "id": "d0d9672a-f062-4b51-9930-999d68323942",
   "metadata": {},
   "source": [
    "**Docs:** Return an iterator that applies function to every item of iterable, yielding the results. If additional iterable arguments are passed, function must take that many arguments and is applied to the items from all iterables in parallel. With multiple iterables, the iterator stops when the shortest iterable is exhausted. For cases where the function inputs are already arranged into argument tuples, see itertools.starmap()."
   ]
  },
  {
   "cell_type": "code",
   "execution_count": 42,
   "id": "36aa4cae-0325-4e67-87f4-bd469b4ee491",
   "metadata": {},
   "outputs": [
    {
     "name": "stdout",
     "output_type": "stream",
     "text": [
      "[10, 20, 30, 40, 50]\n"
     ]
    }
   ],
   "source": [
    "def times_10(num):\n",
    "    return num * 10\n",
    "\n",
    "nums = [1, 2, 3, 4, 5]\n",
    "nums = list(map(times_10, nums))\n",
    "print(nums)"
   ]
  },
  {
   "cell_type": "code",
   "execution_count": 43,
   "id": "2b886223-6a48-4d46-b8ab-1530f03d4546",
   "metadata": {},
   "outputs": [
    {
     "name": "stdout",
     "output_type": "stream",
     "text": [
      "[14, 19, 24, 29, 34]\n"
     ]
    }
   ],
   "source": [
    "def add(n1, n2, n3):\n",
    "    return n1 + n2 + n3\n",
    "\n",
    "nums1 = [1, 3, 5, 7, 9]\n",
    "nums2 = [2, 4, 6, 8, 10]\n",
    "nums3 = [11, 12, 13, 14, 15]\n",
    "sums = list(map(add, nums1, nums2, nums3))\n",
    "print(sums)"
   ]
  },
  {
   "cell_type": "code",
   "execution_count": null,
   "id": "39e8e976-08d7-4d7c-b886-4095ba191154",
   "metadata": {},
   "outputs": [],
   "source": []
  }
 ],
 "metadata": {
  "kernelspec": {
   "display_name": "ds-env",
   "language": "python",
   "name": "ds-env"
  },
  "language_info": {
   "codemirror_mode": {
    "name": "ipython",
    "version": 3
   },
   "file_extension": ".py",
   "mimetype": "text/x-python",
   "name": "python",
   "nbconvert_exporter": "python",
   "pygments_lexer": "ipython3",
   "version": "3.9.6"
  }
 },
 "nbformat": 4,
 "nbformat_minor": 5
}
