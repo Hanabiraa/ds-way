{
 "cells": [
  {
   "cell_type": "markdown",
   "id": "6618aa81-d94f-48e1-8226-a33f3e083186",
   "metadata": {},
   "source": [
    "# NumPy: the absolute basics for beginners\n",
    "\n",
    "## This tutorial in particular repeats [NumPy: the absolute basics for beginners](https://numpy.org/doc/stable/user/absolute_beginners.html) a lot from the official site of NumPy."
   ]
  },
  {
   "cell_type": "markdown",
   "id": "ba1913f7-58fd-451b-b4e4-0aece38d82d7",
   "metadata": {},
   "source": [
    "***\n",
    "\n",
    "We shorten the imported name to `np` for better readability of code using NumPy. This is a widely adopted convention that you should follow so that anyone working with your code can easily understand it."
   ]
  },
  {
   "cell_type": "code",
   "execution_count": 2,
   "id": "9ebb2579-31eb-4cdf-bf41-98d92dfe51a6",
   "metadata": {},
   "outputs": [],
   "source": [
    "# import numpy\n",
    "import numpy as np"
   ]
  },
  {
   "cell_type": "markdown",
   "id": "8edc5bf3-95ea-42bc-bb8b-901660cb988c",
   "metadata": {},
   "source": [
    "### How to create a basic array"
   ]
  },
  {
   "cell_type": "markdown",
   "id": "589d8273-09b3-4915-90c9-769c1475d9d4",
   "metadata": {},
   "source": [
    "> `np.array()`\n",
    "\n",
    "> `np.zeros()`\n",
    "\n",
    "> `np.ones()`\n",
    "\n",
    "> `np.empty()`\n",
    "\n",
    "> `np.arange()`\n",
    "\n",
    "> `np.linspace()`"
   ]
  },
  {
   "cell_type": "code",
   "execution_count": 3,
   "id": "a50f7eba-ba29-4635-a605-43aec7b2cd1e",
   "metadata": {},
   "outputs": [
    {
     "data": {
      "text/plain": [
       "array([[1, 2, 3, 4],\n",
       "       [1, 2, 3, 4]])"
      ]
     },
     "execution_count": 3,
     "metadata": {},
     "output_type": "execute_result"
    }
   ],
   "source": [
    "np.array([[1, 2, 3, 4], [1, 2, 3, 4]])"
   ]
  },
  {
   "cell_type": "code",
   "execution_count": 4,
   "id": "7d4d50ac-035b-455d-a8f6-d32025559d86",
   "metadata": {},
   "outputs": [
    {
     "data": {
      "text/plain": [
       "array([0., 0., 0., 0., 0.])"
      ]
     },
     "execution_count": 4,
     "metadata": {},
     "output_type": "execute_result"
    }
   ],
   "source": [
    "np.zeros(5)"
   ]
  },
  {
   "cell_type": "code",
   "execution_count": 7,
   "id": "765d25f1-ec24-4ea8-9301-0786ca75cef0",
   "metadata": {},
   "outputs": [
    {
     "data": {
      "text/plain": [
       "array([[1., 1., 1., 1., 1.],\n",
       "       [1., 1., 1., 1., 1.],\n",
       "       [1., 1., 1., 1., 1.],\n",
       "       [1., 1., 1., 1., 1.],\n",
       "       [1., 1., 1., 1., 1.]])"
      ]
     },
     "execution_count": 7,
     "metadata": {},
     "output_type": "execute_result"
    }
   ],
   "source": [
    "np.ones([5, 5])"
   ]
  },
  {
   "cell_type": "markdown",
   "id": "9cdd4338-87c4-4e62-abd9-4470168c3e0d",
   "metadata": {},
   "source": [
    "Or even an empty array! The function `empty` creates an array whose initial content is random and depends on the state of the memory. **The reason to use empty over zeros (or something similar) is speed** - just make sure to fill every element afterwards!#### "
   ]
  },
  {
   "cell_type": "code",
   "execution_count": 8,
   "id": "b057d9dc-0170-4ab8-9357-8aa3a4316fba",
   "metadata": {},
   "outputs": [
    {
     "data": {
      "text/plain": [
       "array([[4.67121671e-310, 0.00000000e+000],\n",
       "       [0.00000000e+000, 0.00000000e+000],\n",
       "       [0.00000000e+000, 0.00000000e+000]])"
      ]
     },
     "execution_count": 8,
     "metadata": {},
     "output_type": "execute_result"
    }
   ],
   "source": [
    "np.empty([3, 2])"
   ]
  },
  {
   "cell_type": "code",
   "execution_count": 9,
   "id": "3a722f9e-e056-405f-81d5-2a5088afeb87",
   "metadata": {},
   "outputs": [
    {
     "data": {
      "text/plain": [
       "array([0, 1, 2, 3, 4, 5, 6, 7, 8, 9])"
      ]
     },
     "execution_count": 9,
     "metadata": {},
     "output_type": "execute_result"
    }
   ],
   "source": [
    "# create range of elements\n",
    "np.arange(10)"
   ]
  },
  {
   "cell_type": "code",
   "execution_count": 11,
   "id": "f2b7e377-4d89-435c-8d4d-4ee858851e1c",
   "metadata": {},
   "outputs": [
    {
     "data": {
      "text/plain": [
       "array([2, 5, 8])"
      ]
     },
     "execution_count": 11,
     "metadata": {},
     "output_type": "execute_result"
    }
   ],
   "source": [
    "np.arange(2, 9, 3)"
   ]
  },
  {
   "cell_type": "code",
   "execution_count": 14,
   "id": "fe55bb86-495f-4777-bc01-854268de70e5",
   "metadata": {},
   "outputs": [
    {
     "data": {
      "text/plain": [
       "array([1.  , 1.25, 1.5 , 1.75, 2.  ])"
      ]
     },
     "execution_count": 14,
     "metadata": {},
     "output_type": "execute_result"
    }
   ],
   "source": [
    "np.linspace(1, 2, 5, endpoint=True)"
   ]
  },
  {
   "cell_type": "markdown",
   "id": "47e0363d-51e2-45b5-b367-09d5596b193e",
   "metadata": {},
   "source": [
    "#### Specifying your data type\n",
    "\n",
    "> dtype"
   ]
  },
  {
   "cell_type": "code",
   "execution_count": 16,
   "id": "5220ab7a-8da2-40c6-a927-2a2b5690a4f3",
   "metadata": {},
   "outputs": [
    {
     "data": {
      "text/plain": [
       "array([1., 1.], dtype=float32)"
      ]
     },
     "execution_count": 16,
     "metadata": {},
     "output_type": "execute_result"
    }
   ],
   "source": [
    "np.ones(2, dtype=np.float32)"
   ]
  },
  {
   "cell_type": "markdown",
   "id": "0387f31a-7cca-491b-adad-2a3410d4579e",
   "metadata": {},
   "source": [
    "### Adding, removing, and sorting elements \n",
    "\n",
    "> `numpy.sort(a, axis=-1, kind=None, order=None)`\n",
    "\n",
    "Return a sorted copy of an array.\n",
    "\n",
    "**Parameters:**\n",
    "1. **a : array_like**\n",
    "\n",
    "Array to be sorted.\n",
    "\n",
    "2. **axis : int or None, optional**\n",
    "\n",
    "Axis along which to sort. If None, the array is flattened before sorting. The default is -1, which sorts along the last axis.\n",
    "\n",
    "3. **kind : {‘quicksort’, ‘mergesort’, ‘heapsort’, ‘stable’}, optional**\n",
    "\n",
    "Sorting algorithm. The default is ‘quicksort’. Note that both ‘stable’ and ‘mergesort’ use timsort or radix sort under the covers and, in general, the actual implementation will vary with data type. The ‘mergesort’ option is retained for backwards compatibility.\n",
    "\n",
    "Changed in version 1.15.0.: The ‘stable’ option was added.\n",
    "\n",
    "4. **order : str or list of str, optional**\n",
    "\n",
    "When a is an array with fields defined, this argument specifies which fields to compare first, second, etc. A single field can be specified as a string, and not all fields need be specified, but unspecified fields will still be used, in the order in which they come up in the dtype, to break ties.\n",
    "\n",
    "> `numpy.concatenate((a1, a2, ...), axis=0, out=None, dtype=None, casting=\"same_kind\")`\n",
    "\n",
    "Join a sequence of arrays along an existing axis.\n",
    "\n"
   ]
  },
  {
   "cell_type": "code",
   "execution_count": 17,
   "id": "b6a7f927-ec19-4106-9479-7726c9b4a38b",
   "metadata": {},
   "outputs": [],
   "source": [
    "arr = np.array([2, 1, 5, 3, 7, 4, 6, 8])"
   ]
  },
  {
   "cell_type": "code",
   "execution_count": 18,
   "id": "68d2805b-7863-4725-9ef4-3c9cbca65e28",
   "metadata": {},
   "outputs": [
    {
     "data": {
      "text/plain": [
       "array([1, 2, 3, 4, 5, 6, 7, 8])"
      ]
     },
     "execution_count": 18,
     "metadata": {},
     "output_type": "execute_result"
    }
   ],
   "source": [
    "np.sort(arr)"
   ]
  },
  {
   "cell_type": "code",
   "execution_count": 19,
   "id": "4b1e8b53-08d5-4170-93df-1947f308c5ac",
   "metadata": {},
   "outputs": [],
   "source": [
    "a = np.array([1, 2, 3, 4])\n",
    "b = np.array([5, 6, 7, 8])"
   ]
  },
  {
   "cell_type": "code",
   "execution_count": 21,
   "id": "f10e4896-5efb-4f7d-a5b0-adab06f499e7",
   "metadata": {},
   "outputs": [
    {
     "data": {
      "text/plain": [
       "array([1, 2, 3, 4, 5, 6, 7, 8])"
      ]
     },
     "execution_count": 21,
     "metadata": {},
     "output_type": "execute_result"
    }
   ],
   "source": [
    "np.concatenate((a, b))"
   ]
  },
  {
   "cell_type": "code",
   "execution_count": 37,
   "id": "05abd140-4da6-494d-9484-20c96578e268",
   "metadata": {},
   "outputs": [
    {
     "data": {
      "text/plain": [
       "array([[1, 2],\n",
       "       [3, 4],\n",
       "       [5, 6]])"
      ]
     },
     "execution_count": 37,
     "metadata": {},
     "output_type": "execute_result"
    }
   ],
   "source": [
    "x = np.array([[1, 2], [3, 4]])\n",
    "y = np.array([[5, 6]])\n",
    "np.concatenate((x, y))"
   ]
  },
  {
   "cell_type": "code",
   "execution_count": 38,
   "id": "a1011bfa-5d7e-4717-84ab-4d1f50457319",
   "metadata": {},
   "outputs": [
    {
     "data": {
      "text/plain": [
       "array([[1, 2, 5, 6],\n",
       "       [3, 4, 7, 8]])"
      ]
     },
     "execution_count": 38,
     "metadata": {},
     "output_type": "execute_result"
    }
   ],
   "source": [
    "x = np.array([[1, 2], [3, 4]])\n",
    "y = np.array([[5, 6], [7, 8]])\n",
    "np.concatenate((x, y), axis=1)"
   ]
  },
  {
   "cell_type": "markdown",
   "id": "5626117a-1429-4522-bbe3-d02bfbf2daa5",
   "metadata": {},
   "source": [
    "### How do you know the shape and size of an array?"
   ]
  },
  {
   "cell_type": "markdown",
   "id": "4cea7a05-7bd4-4c57-823f-718979426d2f",
   "metadata": {},
   "source": [
    "> `ndarray.ndim`\n",
    "\n",
    "will tell you the number of axes, or dimensions, of the array.\n",
    "\n",
    "> `ndarray.size`\n",
    "\n",
    "will tell you the total number of elements of the array. This is the product of the elements of the array’s shape.\n",
    "\n",
    "> `ndarray.shape`\n",
    "\n",
    "will display a tuple of integers that indicate the number of elements stored along each dimension of the array. If, for example, you have a 2-D array with 2 rows and 3 columns, the shape of your array is (2, 3)."
   ]
  },
  {
   "cell_type": "code",
   "execution_count": 47,
   "id": "c7428dac-c1e4-440a-a94e-1bf9d123c8d7",
   "metadata": {},
   "outputs": [
    {
     "data": {
      "text/plain": [
       "array([[[ 0,  1,  2,  3],\n",
       "        [ 4,  5,  6,  7],\n",
       "        [ 8,  9, 10, 11]],\n",
       "\n",
       "       [[12, 13, 14, 15],\n",
       "        [16, 17, 18, 19],\n",
       "        [20, 21, 22, 23]]])"
      ]
     },
     "execution_count": 47,
     "metadata": {},
     "output_type": "execute_result"
    }
   ],
   "source": [
    "array_example = np.arange(24).reshape(2, 3, -1)\n",
    "array_example"
   ]
  },
  {
   "cell_type": "code",
   "execution_count": 48,
   "id": "37f2ae58-5c1f-4378-9dcf-a259fdc2c448",
   "metadata": {},
   "outputs": [
    {
     "data": {
      "text/plain": [
       "3"
      ]
     },
     "execution_count": 48,
     "metadata": {},
     "output_type": "execute_result"
    }
   ],
   "source": [
    "array_example.ndim"
   ]
  },
  {
   "cell_type": "code",
   "execution_count": 49,
   "id": "63f91c57-6761-4248-8ced-58887a6b045d",
   "metadata": {},
   "outputs": [
    {
     "data": {
      "text/plain": [
       "24"
      ]
     },
     "execution_count": 49,
     "metadata": {},
     "output_type": "execute_result"
    }
   ],
   "source": [
    "array_example.size"
   ]
  },
  {
   "cell_type": "code",
   "execution_count": 50,
   "id": "1e1c5d77-9e46-4912-bcf8-6e395fc06251",
   "metadata": {},
   "outputs": [
    {
     "data": {
      "text/plain": [
       "(2, 3, 4)"
      ]
     },
     "execution_count": 50,
     "metadata": {},
     "output_type": "execute_result"
    }
   ],
   "source": [
    "array_example.shape"
   ]
  },
  {
   "cell_type": "markdown",
   "id": "5d3c03f0-7ff1-430f-80c5-ea1b23f33542",
   "metadata": {},
   "source": [
    "### Can you reshape an array?\n"
   ]
  },
  {
   "cell_type": "markdown",
   "id": "431218d2-4a61-4643-a887-13b6cc12f928",
   "metadata": {},
   "source": [
    "> `numpy.reshape(a, newshape, order='C')`\n",
    "\n",
    "will give a new shape to an array without changing the data. Just remember that when you use the reshape method, the array you want to produce needs to have the same number of elements as the original array.\n",
    "\n",
    "**Parameters :**\n",
    "\n",
    "1. **a : array_like**\n",
    "\n",
    "Array to be reshaped.\n",
    "\n",
    "2. **newshape : int or tuple of ints**\n",
    "\n",
    "The new shape should be compatible with the original shape. If an integer, then the result will be a 1-D array of that length. One shape dimension can be -1. In this case, the value is inferred from the length of the array and remaining dimensions.\n",
    "\n",
    "3. **order : {‘C’, ‘F’, ‘A’}, optional** \n",
    "\n",
    "Read the elements of a using this index order, and place the elements into the reshaped array using this index order. ‘C’ means to read / write the elements using C-like index order, with the last axis index changing fastest, back to the first axis index changing slowest. ‘F’ means to read / write the elements using Fortran-like index order, with the first index changing fastest, and the last index changing slowest. Note that the ‘C’ and ‘F’ options take no account of the memory layout of the underlying array, and only refer to the order of indexing. ‘A’ means to read / write the elements in Fortran-like index order if a is Fortran contiguous in memory, C-like order otherwise."
   ]
  },
  {
   "cell_type": "code",
   "execution_count": 53,
   "id": "c7763022-93b3-4c39-ac6f-eb067c9a4fdf",
   "metadata": {},
   "outputs": [
    {
     "data": {
      "text/plain": [
       "array([0, 1, 2, 3, 4, 5])"
      ]
     },
     "execution_count": 53,
     "metadata": {},
     "output_type": "execute_result"
    }
   ],
   "source": [
    "a = np.arange(6)\n",
    "a"
   ]
  },
  {
   "cell_type": "code",
   "execution_count": 54,
   "id": "6e9696c5-e984-49c0-8d0f-bab3bd83b176",
   "metadata": {},
   "outputs": [
    {
     "data": {
      "text/plain": [
       "array([[0, 1],\n",
       "       [2, 3],\n",
       "       [4, 5]])"
      ]
     },
     "execution_count": 54,
     "metadata": {},
     "output_type": "execute_result"
    }
   ],
   "source": [
    "b = a.reshape(3, 2)\n",
    "b"
   ]
  },
  {
   "cell_type": "code",
   "execution_count": 56,
   "id": "964e03ff-cec6-42f6-95e3-cf82398dae8e",
   "metadata": {},
   "outputs": [
    {
     "data": {
      "text/plain": [
       "array([[0, 1, 2, 3, 4, 5]])"
      ]
     },
     "execution_count": 56,
     "metadata": {},
     "output_type": "execute_result"
    }
   ],
   "source": [
    "np.reshape(a, newshape=(1, 6), order='C')"
   ]
  },
  {
   "cell_type": "markdown",
   "id": "b40ffebc-6dbf-48ac-9a8d-a144f4c30d55",
   "metadata": {},
   "source": [
    "### How to convert a 1D array into a 2D array (how to add a new axis to an array)"
   ]
  },
  {
   "cell_type": "markdown",
   "id": "17398ca5-f00a-4ea4-af97-13f28de5c787",
   "metadata": {},
   "source": [
    "> `np.newaxis` \n",
    "\n",
    "> `np.expand_dims`\n",
    "\n",
    "Using `np.newaxis` will increase the dimensions of your array by one dimension when used once. This means that a 1D array will become a 2D array, a 2D array will become a 3D array, and so on."
   ]
  },
  {
   "cell_type": "code",
   "execution_count": 57,
   "id": "9e009abb-da22-4886-8f35-251e1b8210f9",
   "metadata": {},
   "outputs": [
    {
     "data": {
      "text/plain": [
       "(6,)"
      ]
     },
     "execution_count": 57,
     "metadata": {},
     "output_type": "execute_result"
    }
   ],
   "source": [
    "a = np.array([1, 2, 3, 4, 5, 6])\n",
    "a.shape"
   ]
  },
  {
   "cell_type": "code",
   "execution_count": 59,
   "id": "51bd3ea1-e308-457b-a77b-470eb0c01a35",
   "metadata": {},
   "outputs": [
    {
     "data": {
      "text/plain": [
       "(1, 6)"
      ]
     },
     "execution_count": 59,
     "metadata": {},
     "output_type": "execute_result"
    }
   ],
   "source": [
    "a2 = a[np.newaxis, :]\n",
    "a2.shape"
   ]
  },
  {
   "cell_type": "markdown",
   "id": "1784edc8-25de-49df-882a-f813e79b8339",
   "metadata": {},
   "source": [
    "You can explicitly convert a 1D array with either a row vector or a column vector using np.newaxis. For example, you can convert a 1D array to a row vector by inserting an axis along the first dimension:"
   ]
  },
  {
   "cell_type": "code",
   "execution_count": 63,
   "id": "844f9435-50a4-44a0-a1fb-d963f1789d16",
   "metadata": {},
   "outputs": [
    {
     "data": {
      "text/plain": [
       "(1, 6)"
      ]
     },
     "execution_count": 63,
     "metadata": {},
     "output_type": "execute_result"
    }
   ],
   "source": [
    "row_vector = a[np.newaxis, :]\n",
    "row_vector.shape"
   ]
  },
  {
   "cell_type": "code",
   "execution_count": 64,
   "id": "f80b2879-bb5c-46c5-9099-7203a2d76a56",
   "metadata": {},
   "outputs": [
    {
     "data": {
      "text/plain": [
       "(6, 1)"
      ]
     },
     "execution_count": 64,
     "metadata": {},
     "output_type": "execute_result"
    }
   ],
   "source": [
    "col_vector = a[:, np.newaxis]\n",
    "col_vector.shape"
   ]
  },
  {
   "cell_type": "markdown",
   "id": "17b0c00f-21c1-4cc2-8a5a-e5ee96f45856",
   "metadata": {},
   "source": [
    "You can also expand an array by inserting a new axis at a specified position with `np.expand_dims`."
   ]
  },
  {
   "cell_type": "code",
   "execution_count": 65,
   "id": "f37f8680-cb5c-4136-891f-b2f5d85f2ad1",
   "metadata": {},
   "outputs": [
    {
     "data": {
      "text/plain": [
       "(6,)"
      ]
     },
     "execution_count": 65,
     "metadata": {},
     "output_type": "execute_result"
    }
   ],
   "source": [
    "a = np.array([1, 2, 3, 4, 5, 6])\n",
    "a.shape"
   ]
  },
  {
   "cell_type": "code",
   "execution_count": 66,
   "id": "e52718c3-8d56-4a46-80d8-6f63949cec89",
   "metadata": {},
   "outputs": [
    {
     "data": {
      "text/plain": [
       "(6, 1)"
      ]
     },
     "execution_count": 66,
     "metadata": {},
     "output_type": "execute_result"
    }
   ],
   "source": [
    "b = np.expand_dims(a, axis=1)\n",
    "b.shape"
   ]
  },
  {
   "cell_type": "code",
   "execution_count": 67,
   "id": "beb907d9-bb45-4ae1-a9e7-3ce8fbe0bc89",
   "metadata": {},
   "outputs": [
    {
     "data": {
      "text/plain": [
       "(1, 6)"
      ]
     },
     "execution_count": 67,
     "metadata": {},
     "output_type": "execute_result"
    }
   ],
   "source": [
    "c = np.expand_dims(a, axis=0)\n",
    "c.shape"
   ]
  },
  {
   "cell_type": "code",
   "execution_count": 97,
   "id": "4081cea0-2ea9-422f-8842-3f181b8fb356",
   "metadata": {},
   "outputs": [
    {
     "data": {
      "text/plain": [
       "(1, 6, 1, 1)"
      ]
     },
     "execution_count": 97,
     "metadata": {},
     "output_type": "execute_result"
    }
   ],
   "source": [
    "d = np.expand_dims(a, axis=(0, 2, 3))\n",
    "d.shape"
   ]
  },
  {
   "cell_type": "code",
   "execution_count": 99,
   "id": "411361a4-5445-454d-a995-4cf68be2ca0d",
   "metadata": {},
   "outputs": [
    {
     "name": "stdout",
     "output_type": "stream",
     "text": [
      "[[[[1]]\n",
      "\n",
      "  [[2]]\n",
      "\n",
      "  [[3]]\n",
      "\n",
      "  [[4]]\n",
      "\n",
      "  [[5]]\n",
      "\n",
      "  [[6]]]]\n"
     ]
    }
   ],
   "source": [
    "print(d)"
   ]
  },
  {
   "cell_type": "code",
   "execution_count": 100,
   "id": "13ae0273-35ce-47e4-ae43-d930dc95972e",
   "metadata": {},
   "outputs": [
    {
     "data": {
      "text/plain": [
       "5"
      ]
     },
     "execution_count": 100,
     "metadata": {},
     "output_type": "execute_result"
    }
   ],
   "source": [
    "d[0, 4, 0, 0]"
   ]
  },
  {
   "cell_type": "markdown",
   "id": "3e290b07-4a4b-466e-9576-2425d1791b67",
   "metadata": {},
   "source": [
    "### Indexing and slicing"
   ]
  },
  {
   "cell_type": "code",
   "execution_count": 103,
   "id": "1ae869d6-7b5a-4240-bf3e-4866f1d4300d",
   "metadata": {},
   "outputs": [],
   "source": [
    "data = np.array([1, 2, 3])"
   ]
  },
  {
   "cell_type": "code",
   "execution_count": 104,
   "id": "5bc15b8c-e560-4e4f-9a25-bd7f38eb4e99",
   "metadata": {},
   "outputs": [
    {
     "data": {
      "text/plain": [
       "2"
      ]
     },
     "execution_count": 104,
     "metadata": {},
     "output_type": "execute_result"
    }
   ],
   "source": [
    "data[1]"
   ]
  },
  {
   "cell_type": "code",
   "execution_count": 105,
   "id": "40744ddf-f141-4774-8ffa-454a9605e390",
   "metadata": {},
   "outputs": [
    {
     "data": {
      "text/plain": [
       "array([1, 2])"
      ]
     },
     "execution_count": 105,
     "metadata": {},
     "output_type": "execute_result"
    }
   ],
   "source": [
    "data[0:2]"
   ]
  },
  {
   "cell_type": "code",
   "execution_count": 106,
   "id": "644fbda6-6dc1-40f8-a6a4-7efde8265185",
   "metadata": {},
   "outputs": [
    {
     "data": {
      "text/plain": [
       "array([2, 3])"
      ]
     },
     "execution_count": 106,
     "metadata": {},
     "output_type": "execute_result"
    }
   ],
   "source": [
    "data[1:]"
   ]
  },
  {
   "cell_type": "code",
   "execution_count": 107,
   "id": "e01151c5-4b3c-4a70-9fe4-a443dbe868da",
   "metadata": {},
   "outputs": [
    {
     "data": {
      "text/plain": [
       "array([2, 3])"
      ]
     },
     "execution_count": 107,
     "metadata": {},
     "output_type": "execute_result"
    }
   ],
   "source": [
    "data[-2:]"
   ]
  },
  {
   "cell_type": "markdown",
   "id": "0f2070db-0007-426c-8015-b56db7e7fa1b",
   "metadata": {},
   "source": [
    "![](./images/np_indexing.png)"
   ]
  },
  {
   "cell_type": "markdown",
   "id": "9f3688dc-be92-493e-bd06-b627177fbf01",
   "metadata": {},
   "source": [
    "You may want to take a section of your array or specific array elements to use in further analysis or additional operations. To do that, you’ll need to subset, slice, and/or index your arrays.\n",
    "\n",
    "If you want to select values from your array that fulfill certain conditions, it’s straightforward with NumPy.\n",
    "\n",
    "For example, if you start with this array:"
   ]
  },
  {
   "cell_type": "code",
   "execution_count": 108,
   "id": "09628d61-c3b3-4a9c-a553-3912d3c1357b",
   "metadata": {},
   "outputs": [],
   "source": [
    "a = np.array([[1 , 2, 3, 4], [5, 6, 7, 8], [9, 10, 11, 12]])"
   ]
  },
  {
   "cell_type": "markdown",
   "id": "f40d237c-c4cb-4e4c-8759-8fbb13fca49c",
   "metadata": {},
   "source": [
    "You can easily print all of the values in the array that are less than 5.\n"
   ]
  },
  {
   "cell_type": "code",
   "execution_count": 109,
   "id": "65dcfa41-9479-4e02-b974-a0c0cd12c408",
   "metadata": {},
   "outputs": [
    {
     "name": "stdout",
     "output_type": "stream",
     "text": [
      "[1 2 3 4]\n"
     ]
    }
   ],
   "source": [
    "print(a[a < 5])"
   ]
  },
  {
   "cell_type": "markdown",
   "id": "60a302a6-3072-4c3e-98e1-892ab6f287b6",
   "metadata": {},
   "source": [
    "You can also select, for example, numbers that are equal to or greater than 5, and use that condition to index an array.\n",
    "\n"
   ]
  },
  {
   "cell_type": "code",
   "execution_count": 112,
   "id": "0e993e51-39fe-4ec2-bca4-c9db830d0b37",
   "metadata": {},
   "outputs": [
    {
     "data": {
      "text/plain": [
       "array([[False, False, False, False],\n",
       "       [ True,  True,  True,  True],\n",
       "       [ True,  True,  True,  True]])"
      ]
     },
     "execution_count": 112,
     "metadata": {},
     "output_type": "execute_result"
    }
   ],
   "source": [
    "five_up = (a >= 5)\n",
    "five_up"
   ]
  },
  {
   "cell_type": "code",
   "execution_count": 111,
   "id": "39f61535-85e5-46da-a264-7c906df005e2",
   "metadata": {},
   "outputs": [
    {
     "name": "stdout",
     "output_type": "stream",
     "text": [
      "[ 5  6  7  8  9 10 11 12]\n"
     ]
    }
   ],
   "source": [
    "print(a[five_up])\n"
   ]
  },
  {
   "cell_type": "code",
   "execution_count": 113,
   "id": "b8fedfab-7dd9-4ac8-8aa4-aab87b752d1b",
   "metadata": {},
   "outputs": [
    {
     "data": {
      "text/plain": [
       "array([ 2,  4,  6,  8, 10, 12])"
      ]
     },
     "execution_count": 113,
     "metadata": {},
     "output_type": "execute_result"
    }
   ],
   "source": [
    "divisible_by_2 = a[a%2==0]\n",
    "divisible_by_2"
   ]
  },
  {
   "cell_type": "code",
   "execution_count": 114,
   "id": "a944dea8-50d7-4f01-b839-f2eec44c4421",
   "metadata": {},
   "outputs": [
    {
     "data": {
      "text/plain": [
       "array([ 3,  4,  5,  6,  7,  8,  9, 10])"
      ]
     },
     "execution_count": 114,
     "metadata": {},
     "output_type": "execute_result"
    }
   ],
   "source": [
    "c = a[(a > 2) & (a < 11)]\n",
    "c"
   ]
  },
  {
   "cell_type": "code",
   "execution_count": 115,
   "id": "4284d330-3f6a-4a91-9535-bc849c431d73",
   "metadata": {},
   "outputs": [
    {
     "name": "stdout",
     "output_type": "stream",
     "text": [
      "[[False False False False]\n",
      " [ True  True  True  True]\n",
      " [ True  True  True  True]]\n"
     ]
    }
   ],
   "source": [
    "five_up = (a > 5) | (a == 5)\n",
    "print(five_up)"
   ]
  },
  {
   "cell_type": "markdown",
   "id": "4b680aaf-d8bc-4bf5-919e-26b9e1661331",
   "metadata": {},
   "source": [
    "You can also use `np.nonzero()` to select elements or indices from an array.\n",
    "\n",
    "Starting with this array:"
   ]
  },
  {
   "cell_type": "code",
   "execution_count": 123,
   "id": "2cb09087-20a9-44c3-b837-302f56a84ed6",
   "metadata": {},
   "outputs": [
    {
     "data": {
      "text/plain": [
       "array([[ 1,  2,  3,  4],\n",
       "       [ 5,  6,  7,  8],\n",
       "       [ 9, 10, 11, 12]])"
      ]
     },
     "execution_count": 123,
     "metadata": {},
     "output_type": "execute_result"
    }
   ],
   "source": [
    "a = np.array([[1, 2, 3, 4], [5, 6, 7, 8], [9, 10, 11, 12]])\n",
    "b = np.nonzero(a > 5)\n",
    "a"
   ]
  },
  {
   "cell_type": "code",
   "execution_count": 124,
   "id": "9f1dd3b5-3007-47d2-b4fb-ab06f369a6cc",
   "metadata": {},
   "outputs": [
    {
     "data": {
      "text/plain": [
       "(array([1, 1, 1, 2, 2, 2, 2]), array([1, 2, 3, 0, 1, 2, 3]))"
      ]
     },
     "execution_count": 124,
     "metadata": {},
     "output_type": "execute_result"
    }
   ],
   "source": [
    "b"
   ]
  },
  {
   "cell_type": "code",
   "execution_count": 125,
   "id": "3d039f23-1a21-42f8-a529-5196f12dce0f",
   "metadata": {},
   "outputs": [
    {
     "data": {
      "text/plain": [
       "array([ 6,  7,  8,  9, 10, 11, 12])"
      ]
     },
     "execution_count": 125,
     "metadata": {},
     "output_type": "execute_result"
    }
   ],
   "source": [
    "a[b]"
   ]
  },
  {
   "cell_type": "markdown",
   "id": "0da60c7e-5e95-456d-a694-576dd4db447f",
   "metadata": {},
   "source": [
    "In this example, a tuple of arrays was returned: one for each dimension. The first array represents the row indices where these values are found, and the second array represents the column indices where the values are found.\n",
    "\n",
    "If you want to generate a list of coordinates where the elements exist, you can zip the arrays, iterate over the list of coordinates, and print them. For example:"
   ]
  },
  {
   "cell_type": "code",
   "execution_count": 126,
   "id": "818c058f-133a-4d30-881f-1f47f208e2df",
   "metadata": {},
   "outputs": [],
   "source": [
    "list_of_coordinates= list(zip(b[0], b[1]))"
   ]
  },
  {
   "cell_type": "code",
   "execution_count": 127,
   "id": "9e7be01e-2be8-47d6-8be5-93f0b22f866a",
   "metadata": {},
   "outputs": [
    {
     "name": "stdout",
     "output_type": "stream",
     "text": [
      "(1, 1)\n",
      "(1, 2)\n",
      "(1, 3)\n",
      "(2, 0)\n",
      "(2, 1)\n",
      "(2, 2)\n",
      "(2, 3)\n"
     ]
    }
   ],
   "source": [
    "for coord in list_of_coordinates:\n",
    "    print(coord)"
   ]
  },
  {
   "cell_type": "markdown",
   "id": "5d4ad65e-148d-4659-b7b9-6a18156965b7",
   "metadata": {},
   "source": [
    "### How to create an array from existing data¶\n"
   ]
  },
  {
   "cell_type": "code",
   "execution_count": null,
   "id": "7ca1174c-31db-413e-94f1-2fce99d6b07d",
   "metadata": {},
   "outputs": [],
   "source": []
  }
 ],
 "metadata": {
  "kernelspec": {
   "display_name": "ds-env",
   "language": "python",
   "name": "ds-env"
  },
  "language_info": {
   "codemirror_mode": {
    "name": "ipython",
    "version": 3
   },
   "file_extension": ".py",
   "mimetype": "text/x-python",
   "name": "python",
   "nbconvert_exporter": "python",
   "pygments_lexer": "ipython3",
   "version": "3.9.6"
  }
 },
 "nbformat": 4,
 "nbformat_minor": 5
}
