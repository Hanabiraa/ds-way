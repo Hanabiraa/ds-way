{
 "cells": [
  {
   "cell_type": "markdown",
   "id": "7a48cf2d-a468-4fcc-9390-4c778df18eb2",
   "metadata": {},
   "source": [
    "# Numpy beginner tutorial\n",
    "## This tutorial in particular repeats [numpy quickstart](https://numpy.org/devdocs/user/quickstart.html) a lot from the official site of NumPy."
   ]
  },
  {
   "cell_type": "code",
   "execution_count": 2,
   "id": "9aef3a4e-577e-4c1b-a919-7b25d8f494d3",
   "metadata": {},
   "outputs": [],
   "source": [
    "# imports\n",
    "import numpy as np\n",
    "import matplotlib.pyplot as plt\n",
    "rg = np.random.default_rng(1)  # create instance of default random number generator\n",
    "%matplotlib inline"
   ]
  },
  {
   "cell_type": "markdown",
   "id": "66ad2954-eafd-433b-8748-a217607f2653",
   "metadata": {},
   "source": [
    "### Basics\n",
    "\n",
    "NumPy’s main object is the homogeneous multidimensional array. It is a table of elements (usually numbers), all of the same type, indexed by a tuple of non-negative integers. In NumPy dimensions are called `axes`."
   ]
  },
  {
   "cell_type": "code",
   "execution_count": 2,
   "id": "2a4bf110-f906-4469-aaab-dd6b803cea21",
   "metadata": {},
   "outputs": [
    {
     "data": {
      "text/plain": [
       "[[1.0, 0.0, 0.0], [0.0, 1.0, 0.0]]"
      ]
     },
     "execution_count": 2,
     "metadata": {},
     "output_type": "execute_result"
    }
   ],
   "source": [
    "# for example: the array has 2 axes. The first axis has a length of 2, the second axis has a length of 3.\n",
    "[[1., 0., 0.],\n",
    " [0., 1., 0.]]"
   ]
  },
  {
   "cell_type": "markdown",
   "id": "902b638b-67d2-4776-92fe-a1d22fc7aeca",
   "metadata": {},
   "source": [
    "NumPy’s array class is called `ndarray`. It is also known by the alias array. Note that `numpy.array` **is not** the same as the Standard Python Library class `array.array`"
   ]
  },
  {
   "cell_type": "markdown",
   "id": "fc89f497-51e5-4252-b13d-91e3a7272c00",
   "metadata": {},
   "source": [
    "The more important attributes of an ndarray object are:\n",
    "\n",
    "***\n",
    "\n",
    "> `ndarray.ndim`\n",
    "\n",
    "the number of axes (dimensions) of the array.\n",
    "\n",
    "> `ndarray.shape`\n",
    "\n",
    "the dimensions of the array. This is a tuple of integers indicating the size of the array in each dimension. For a matrix with n rows and m columns, `shape` will be `(n,m)`. The length of the `shape` tuple is therefore the number of axes, `ndim`.\n",
    "\n",
    "> `ndarray.size`\n",
    "\n",
    "the total number of elements of the array. This is equal to the product of the elements of `shape`.\n",
    "\n",
    "> `ndarray.dtype`\n",
    "\n",
    "an object describing the type of the elements in the array. One can create or specify dtype’s using standard Python types. **Additionally** NumPy provides types of its own. **numpy.int32, numpy.int16, and numpy.float64 are some examples**.\n",
    "\n",
    "> `ndarray.itemsize`\n",
    "\n",
    "the size in bytes of each element of the array. For example, an array of elements of type `float64` has `itemsize` 8 (=64/8), while one of type `complex32` has `itemsize 4` (=32/8). It is equivalent to `ndarray.dtype.itemsize`.\n",
    "\n",
    "> `ndarray.data`\n",
    "\n",
    "the buffer containing the actual elements of the array. Normally, we won’t need to use this attribute because we will access the elements in an array using indexing facilities.\n"
   ]
  },
  {
   "cell_type": "code",
   "execution_count": 3,
   "id": "7bbc1a99-d124-4f61-8535-d5e9f5474b30",
   "metadata": {},
   "outputs": [
    {
     "data": {
      "text/plain": [
       "array([[ 0,  1,  2,  3,  4],\n",
       "       [ 5,  6,  7,  8,  9],\n",
       "       [10, 11, 12, 13, 14]])"
      ]
     },
     "execution_count": 3,
     "metadata": {},
     "output_type": "execute_result"
    }
   ],
   "source": [
    "lst = np.arange(15).reshape(3, 5)\n",
    "lst"
   ]
  },
  {
   "cell_type": "code",
   "execution_count": 4,
   "id": "e06a33d0-2d39-4dbb-a92c-e48381f55f81",
   "metadata": {},
   "outputs": [
    {
     "data": {
      "text/plain": [
       "(3, 5)"
      ]
     },
     "execution_count": 4,
     "metadata": {},
     "output_type": "execute_result"
    }
   ],
   "source": [
    "lst.shape"
   ]
  },
  {
   "cell_type": "code",
   "execution_count": 5,
   "id": "d3027cdd-23ac-4f01-a3f4-60b5dff66d77",
   "metadata": {},
   "outputs": [
    {
     "data": {
      "text/plain": [
       "15"
      ]
     },
     "execution_count": 5,
     "metadata": {},
     "output_type": "execute_result"
    }
   ],
   "source": [
    "lst.size"
   ]
  },
  {
   "cell_type": "code",
   "execution_count": 6,
   "id": "f95479d7-9002-4d5d-b293-65779576f576",
   "metadata": {},
   "outputs": [
    {
     "data": {
      "text/plain": [
       "dtype('int64')"
      ]
     },
     "execution_count": 6,
     "metadata": {},
     "output_type": "execute_result"
    }
   ],
   "source": [
    "lst.dtype"
   ]
  },
  {
   "cell_type": "code",
   "execution_count": 7,
   "id": "d8c9884e-4b34-4a8f-a190-870c4e00154f",
   "metadata": {},
   "outputs": [
    {
     "data": {
      "text/plain": [
       "8"
      ]
     },
     "execution_count": 7,
     "metadata": {},
     "output_type": "execute_result"
    }
   ],
   "source": [
    "lst.itemsize"
   ]
  },
  {
   "cell_type": "code",
   "execution_count": 8,
   "id": "f08ec918-86fb-40d5-893d-3fd9ca7d6de0",
   "metadata": {},
   "outputs": [
    {
     "data": {
      "text/plain": [
       "<memory at 0x7fb932c29790>"
      ]
     },
     "execution_count": 8,
     "metadata": {},
     "output_type": "execute_result"
    }
   ],
   "source": [
    "lst.data"
   ]
  },
  {
   "cell_type": "code",
   "execution_count": 9,
   "id": "b0d374fe-53b1-4e97-964d-30cabd7540f5",
   "metadata": {},
   "outputs": [
    {
     "data": {
      "text/plain": [
       "numpy.ndarray"
      ]
     },
     "execution_count": 9,
     "metadata": {},
     "output_type": "execute_result"
    }
   ],
   "source": [
    "type(lst)"
   ]
  },
  {
   "cell_type": "code",
   "execution_count": 10,
   "id": "ec38f112-062b-485b-b502-b5e69d515ba9",
   "metadata": {},
   "outputs": [
    {
     "data": {
      "text/plain": [
       "array([1, 2, 3, 4])"
      ]
     },
     "execution_count": 10,
     "metadata": {},
     "output_type": "execute_result"
    }
   ],
   "source": [
    "# create numpy array\n",
    "basic_lst = [1, 2, 3, 4]\n",
    "own_lst = np.array(basic_lst)\n",
    "\n",
    "own_lst"
   ]
  },
  {
   "cell_type": "code",
   "execution_count": 11,
   "id": "761a1ace-5704-4b09-97fc-28f548af13c4",
   "metadata": {},
   "outputs": [
    {
     "data": {
      "text/plain": [
       "numpy.ndarray"
      ]
     },
     "execution_count": 11,
     "metadata": {},
     "output_type": "execute_result"
    }
   ],
   "source": [
    "type(own_lst)"
   ]
  },
  {
   "cell_type": "markdown",
   "id": "efda7af9-db91-47d1-992f-29612e41e9b3",
   "metadata": {},
   "source": [
    "### Array Creation"
   ]
  },
  {
   "cell_type": "code",
   "execution_count": 12,
   "id": "859d98fb-87d1-4139-8f40-823e3378a8f9",
   "metadata": {},
   "outputs": [
    {
     "data": {
      "text/plain": [
       "array([1, 2, 3])"
      ]
     },
     "execution_count": 12,
     "metadata": {},
     "output_type": "execute_result"
    }
   ],
   "source": [
    "# create array using np.array function\n",
    "int_lst = np.array([1, 2, 3])\n",
    "int_lst"
   ]
  },
  {
   "cell_type": "code",
   "execution_count": 13,
   "id": "8f50e653-4372-4714-a08e-b4f0f7ba0548",
   "metadata": {},
   "outputs": [
    {
     "data": {
      "text/plain": [
       "dtype('int64')"
      ]
     },
     "execution_count": 13,
     "metadata": {},
     "output_type": "execute_result"
    }
   ],
   "source": [
    "int_lst.dtype"
   ]
  },
  {
   "cell_type": "code",
   "execution_count": 14,
   "id": "9353ea42-bfd0-4149-b9ce-0512466f4864",
   "metadata": {},
   "outputs": [
    {
     "data": {
      "text/plain": [
       "array([1., 2., 3.])"
      ]
     },
     "execution_count": 14,
     "metadata": {},
     "output_type": "execute_result"
    }
   ],
   "source": [
    "float_lst = np.array([1., 2., 3.])\n",
    "float_lst"
   ]
  },
  {
   "cell_type": "code",
   "execution_count": 15,
   "id": "8284bced-7d72-4828-b72a-5dc5df35d136",
   "metadata": {},
   "outputs": [
    {
     "data": {
      "text/plain": [
       "dtype('float64')"
      ]
     },
     "execution_count": 15,
     "metadata": {},
     "output_type": "execute_result"
    }
   ],
   "source": [
    "float_lst.dtype"
   ]
  },
  {
   "cell_type": "markdown",
   "id": "e4b62d98-002d-4937-b093-9a752a40e22d",
   "metadata": {},
   "source": [
    "A frequent error consists in calling `array` with multiple arguments, rather than providing a single sequence as an argument."
   ]
  },
  {
   "cell_type": "code",
   "execution_count": 16,
   "id": "db819ea5-d690-4701-9745-f213d6e4e821",
   "metadata": {},
   "outputs": [
    {
     "ename": "TypeError",
     "evalue": "array() takes from 1 to 2 positional arguments but 4 were given",
     "output_type": "error",
     "traceback": [
      "\u001b[0;31m---------------------------------------------------------------------------\u001b[0m",
      "\u001b[0;31mTypeError\u001b[0m                                 Traceback (most recent call last)",
      "\u001b[0;32m/tmp/ipykernel_7156/332102503.py\u001b[0m in \u001b[0;36m<module>\u001b[0;34m\u001b[0m\n\u001b[1;32m      1\u001b[0m \u001b[0;31m# WRONG\u001b[0m\u001b[0;34m\u001b[0m\u001b[0;34m\u001b[0m\u001b[0;34m\u001b[0m\u001b[0m\n\u001b[0;32m----> 2\u001b[0;31m \u001b[0mnp\u001b[0m\u001b[0;34m.\u001b[0m\u001b[0marray\u001b[0m\u001b[0;34m(\u001b[0m\u001b[0;36m1\u001b[0m\u001b[0;34m,\u001b[0m \u001b[0;36m2\u001b[0m\u001b[0;34m,\u001b[0m \u001b[0;36m3\u001b[0m\u001b[0;34m,\u001b[0m \u001b[0;36m4\u001b[0m\u001b[0;34m)\u001b[0m\u001b[0;34m\u001b[0m\u001b[0;34m\u001b[0m\u001b[0m\n\u001b[0m",
      "\u001b[0;31mTypeError\u001b[0m: array() takes from 1 to 2 positional arguments but 4 were given"
     ]
    }
   ],
   "source": [
    "# WRONG\n",
    "np.array(1, 2, 3, 4)"
   ]
  },
  {
   "cell_type": "code",
   "execution_count": 17,
   "id": "9df5497b-9198-4844-b373-2e43e562f74f",
   "metadata": {},
   "outputs": [
    {
     "data": {
      "text/plain": [
       "array([1, 2, 3, 4, 5])"
      ]
     },
     "execution_count": 17,
     "metadata": {},
     "output_type": "execute_result"
    }
   ],
   "source": [
    "# RIGHT\n",
    "np.array([1, 2, 3, 4, 5])"
   ]
  },
  {
   "cell_type": "markdown",
   "id": "3bbf4a00-2ec9-406e-b6d7-6d4ed0611298",
   "metadata": {},
   "source": [
    "`array` transforms sequences of sequences into two-dimensional arrays, sequences of sequences of sequences into three-dimensional arrays, and so on."
   ]
  },
  {
   "cell_type": "code",
   "execution_count": 18,
   "id": "4a7eb788-ab42-4430-ad14-1326a2438ed2",
   "metadata": {},
   "outputs": [
    {
     "data": {
      "text/plain": [
       "array([[1, 2, 3],\n",
       "       [4, 5, 6]])"
      ]
     },
     "execution_count": 18,
     "metadata": {},
     "output_type": "execute_result"
    }
   ],
   "source": [
    "# like tuples\n",
    "lst_2dim = np.array([(1, 2, 3), (4, 5, 6)])\n",
    "lst_2dim"
   ]
  },
  {
   "cell_type": "code",
   "execution_count": 19,
   "id": "82fae115-284b-490a-b6ee-fb4a43ab2345",
   "metadata": {},
   "outputs": [
    {
     "data": {
      "text/plain": [
       "array([[1, 2, 3],\n",
       "       [4, 5, 6]])"
      ]
     },
     "execution_count": 19,
     "metadata": {},
     "output_type": "execute_result"
    }
   ],
   "source": [
    "# like list\n",
    "lst_2dim = np.array([[1, 2, 3], [4, 5, 6]])\n",
    "lst_2dim"
   ]
  },
  {
   "cell_type": "code",
   "execution_count": 20,
   "id": "ecbe3d03-a315-4cd0-b6da-31b8110ce321",
   "metadata": {},
   "outputs": [
    {
     "data": {
      "text/plain": [
       "2"
      ]
     },
     "execution_count": 20,
     "metadata": {},
     "output_type": "execute_result"
    }
   ],
   "source": [
    "lst_2dim.ndim"
   ]
  },
  {
   "cell_type": "code",
   "execution_count": 21,
   "id": "bf337c51-5b6a-4acb-aa4f-1ddb3510d4b8",
   "metadata": {},
   "outputs": [
    {
     "data": {
      "text/plain": [
       "array([1.+0.j, 2.+0.j, 3.+0.j, 4.+0.j])"
      ]
     },
     "execution_count": 21,
     "metadata": {},
     "output_type": "execute_result"
    }
   ],
   "source": [
    "#The type of the array can also be explicitly specified at creation time:\n",
    "complex_lst = np.array([1, 2, 3, 4], dtype=complex)\n",
    "complex_lst"
   ]
  },
  {
   "cell_type": "markdown",
   "id": "1d7a52fe-cf62-4883-98e0-2fddf215dc7e",
   "metadata": {},
   "source": [
    "Often, the elements of an array are originally unknown, but its size is known. Hence, NumPy offers several functions to create arrays with initial placeholder content. These minimize the necessity of growing arrays, an expensive operation.\n",
    "\n",
    "> `numpy.zeros(shape, dtype=float, order='C', *, like=None)`\n",
    "\n",
    "Return a new array of given shape and type, filled with zeros.\n",
    "\n",
    "> `numpy.ones(shape, dtype=None, order='C', *, like=None)`\n",
    "\n",
    "Return a new array of given shape and type, filled with ones.\n",
    "\n",
    "> `numpy.empty(shape, dtype=float, order='C', *, like=None)`\n",
    "\n",
    "Return a new array of given shape and type, without initializing entries **(content is random and depends on the state of the memory)**.\n",
    "\n",
    "\n",
    "_By default, the `dtype` of the created array is `float64`, but it can be specified via the key word argument dtype._"
   ]
  },
  {
   "cell_type": "code",
   "execution_count": 27,
   "id": "8cfa6044-6458-40b3-bf02-fa8de9dff41c",
   "metadata": {},
   "outputs": [
    {
     "data": {
      "text/plain": [
       "array([[0., 0., 0.],\n",
       "       [0., 0., 0.]])"
      ]
     },
     "execution_count": 27,
     "metadata": {},
     "output_type": "execute_result"
    }
   ],
   "source": [
    "np.zeros([2, 3])\n",
    "# or\n",
    "# np.zeros((2, 3))"
   ]
  },
  {
   "cell_type": "code",
   "execution_count": 28,
   "id": "4ecb4737-0978-47e6-b49c-1e8c842dc892",
   "metadata": {},
   "outputs": [
    {
     "data": {
      "text/plain": [
       "array([[1., 1., 1., 1.],\n",
       "       [1., 1., 1., 1.],\n",
       "       [1., 1., 1., 1.]])"
      ]
     },
     "execution_count": 28,
     "metadata": {},
     "output_type": "execute_result"
    }
   ],
   "source": [
    "np.ones([3, 4])\n",
    "# or\n",
    "# np.ones((3, 4))"
   ]
  },
  {
   "cell_type": "code",
   "execution_count": 33,
   "id": "fd208daf-dc42-40a1-8b14-20d991fd43e6",
   "metadata": {},
   "outputs": [
    {
     "data": {
      "text/plain": [
       "array([[4.65328105e-310, 0.00000000e+000, 6.93833211e-310,\n",
       "        6.93838078e-310],\n",
       "       [6.93838077e-310, 6.93838078e-310, 6.93835596e-310,\n",
       "        6.93838036e-310]])"
      ]
     },
     "execution_count": 33,
     "metadata": {},
     "output_type": "execute_result"
    }
   ],
   "source": [
    "np.empty([2, 4])"
   ]
  },
  {
   "cell_type": "code",
   "execution_count": 41,
   "id": "a2dea861-82df-42b6-ab00-b538db8a0ce1",
   "metadata": {},
   "outputs": [
    {
     "data": {
      "text/plain": [
       "array([[-1, -1, -1, -1],\n",
       "       [-1, -1, -1, -1]], dtype=int8)"
      ]
     },
     "execution_count": 41,
     "metadata": {},
     "output_type": "execute_result"
    }
   ],
   "source": [
    "# with numpy type\n",
    "np.empty((2, 4), dtype=np.int8)"
   ]
  },
  {
   "cell_type": "code",
   "execution_count": 53,
   "id": "036c3991-3022-4346-bfda-cf9c53156416",
   "metadata": {},
   "outputs": [
    {
     "data": {
      "text/plain": [
       "array([[     94183456056560,                   0,                   0,\n",
       "                          0,                   0],\n",
       "       [7076336329807914035, 3617566314198085933, 3257002151774073654,\n",
       "        3618752481072527665,        521388909921]])"
      ]
     },
     "execution_count": 53,
     "metadata": {},
     "output_type": "execute_result"
    }
   ],
   "source": [
    "# with python type\n",
    "np.empty([2, 5], dtype=int)"
   ]
  },
  {
   "cell_type": "markdown",
   "id": "97e909e9-5035-4787-926c-6070a19073ff",
   "metadata": {},
   "source": [
    "To create sequences of numbers, NumPy provides the `arange` function which is analogous to the Python built-in `range`, but returns an array.\n",
    "\n",
    "> `numpy.arange([start, ]stop, [step, ]dtype=None, *, like=None)`\n",
    "\n",
    "Return evenly spaced values within a given interval.\n",
    "\n",
    "Values are generated within the half-open interval **[start, stop)** (in other words, the interval including start but excluding stop). For integer arguments the function is equivalent to the Python built-in range function, but returns an ndarray rather than a list.\n",
    "\n",
    "**When using a non-integer step, such as 0.1, the results will often not be consistent. It is better to use** `numpy.linspace` **for these cases.**\n",
    "\n",
    "> `numpy.linspace(start, stop, num=50, endpoint=True, retstep=False, dtype=None, axis=0)`\n",
    "\n",
    "Return evenly spaced numbers over a specified interval.\n",
    "\n",
    "Returns num evenly spaced samples, calculated over the interval **[start, stop] when endpoint=True, or [start, stop) when endpoint=False**."
   ]
  },
  {
   "cell_type": "code",
   "execution_count": 56,
   "id": "462bba79-e3b4-48f0-b08b-f608f2928996",
   "metadata": {},
   "outputs": [
    {
     "data": {
      "text/plain": [
       "array([ 1,  2,  3,  4,  5,  6,  7,  8,  9, 10, 11, 12, 13, 14, 15])"
      ]
     },
     "execution_count": 56,
     "metadata": {},
     "output_type": "execute_result"
    }
   ],
   "source": [
    "np.arange(1, 16)"
   ]
  },
  {
   "cell_type": "code",
   "execution_count": 57,
   "id": "13847dff-eb24-4a40-98d2-0d046fc64343",
   "metadata": {},
   "outputs": [
    {
     "data": {
      "text/plain": [
       "array([ 1,  4,  7, 10, 13])"
      ]
     },
     "execution_count": 57,
     "metadata": {},
     "output_type": "execute_result"
    }
   ],
   "source": [
    "np.arange(1, 15, 3)"
   ]
  },
  {
   "cell_type": "code",
   "execution_count": 84,
   "id": "ec54a5c9-875f-4e16-8642-1c628df60815",
   "metadata": {},
   "outputs": [
    {
     "data": {
      "text/plain": [
       "array([1. , 1.1, 1.2, 1.3, 1.4, 1.5, 1.6, 1.7, 1.8, 1.9, 2. , 2.1, 2.2,\n",
       "       2.3, 2.4, 2.5, 2.6, 2.7, 2.8, 2.9, 3. , 3.1, 3.2, 3.3, 3.4, 3.5,\n",
       "       3.6, 3.7, 3.8, 3.9, 4. , 4.1, 4.2, 4.3, 4.4, 4.5, 4.6, 4.7, 4.8,\n",
       "       4.9])"
      ]
     },
     "execution_count": 84,
     "metadata": {},
     "output_type": "execute_result"
    }
   ],
   "source": [
    "# VERY BAD\n",
    "\n",
    "# step must be int, else - undefined behavior\n",
    "np.arange(1, 5, 0.1)"
   ]
  },
  {
   "cell_type": "code",
   "execution_count": 85,
   "id": "e9140576-0d18-49e6-a79e-94d6bff4c268",
   "metadata": {},
   "outputs": [
    {
     "data": {
      "text/plain": [
       "array([1. , 1.1, 1.2, 1.3, 1.4, 1.5, 1.6, 1.7, 1.8, 1.9, 2. , 2.1, 2.2,\n",
       "       2.3, 2.4, 2.5, 2.6, 2.7, 2.8, 2.9, 3. , 3.1, 3.2, 3.3, 3.4, 3.5,\n",
       "       3.6, 3.7, 3.8, 3.9, 4. , 4.1, 4.2, 4.3, 4.4, 4.5, 4.6, 4.7, 4.8,\n",
       "       4.9])"
      ]
     },
     "execution_count": 85,
     "metadata": {},
     "output_type": "execute_result"
    }
   ],
   "source": [
    "# GOOD\n",
    "# with endpoint=False\n",
    "# [start, stop) \n",
    "\n",
    "np.linspace(1, 5, 40, endpoint=False)"
   ]
  },
  {
   "cell_type": "code",
   "execution_count": 86,
   "id": "784fb442-8900-429b-befb-2cd572824508",
   "metadata": {},
   "outputs": [
    {
     "data": {
      "text/plain": [
       "array([1. , 1.1, 1.2, 1.3, 1.4, 1.5, 1.6, 1.7, 1.8, 1.9, 2. , 2.1, 2.2,\n",
       "       2.3, 2.4, 2.5, 2.6, 2.7, 2.8, 2.9, 3. , 3.1, 3.2, 3.3, 3.4, 3.5,\n",
       "       3.6, 3.7, 3.8, 3.9, 4. , 4.1, 4.2, 4.3, 4.4, 4.5, 4.6, 4.7, 4.8,\n",
       "       4.9, 5. ])"
      ]
     },
     "execution_count": 86,
     "metadata": {},
     "output_type": "execute_result"
    }
   ],
   "source": [
    "# with endpoint=True\n",
    "# [start, stop] \n",
    "\n",
    "np.linspace(1, 5, 41)"
   ]
  },
  {
   "cell_type": "markdown",
   "id": "3d6f7dcc-30db-4eef-9016-c263cfae9bf7",
   "metadata": {},
   "source": [
    "### Printing Arrays\n",
    "\n",
    "When you print an array, NumPy displays it in a similar way to nested lists, but with the following layout:\n",
    "\n",
    "* the last axis is printed from left to right,\n",
    "\n",
    "* the second-to-last is printed from top to bottom,\n",
    "\n",
    "* the rest are also printed from top to bottom, with each slice separated from the next by an empty line.\n",
    "\n",
    "One-dimensional arrays are then printed as rows, bidimensionals as matrices and tridimensionals as lists of matrices."
   ]
  },
  {
   "cell_type": "code",
   "execution_count": 88,
   "id": "d378a2f0-40fd-4947-96ce-efc9010fecbb",
   "metadata": {},
   "outputs": [
    {
     "name": "stdout",
     "output_type": "stream",
     "text": [
      "[1 2 3 4 5]\n"
     ]
    }
   ],
   "source": [
    "# 1d array\n",
    "lst_1d = np.arange(1, 6)\n",
    "print(lst_1d)"
   ]
  },
  {
   "cell_type": "code",
   "execution_count": 92,
   "id": "f8f32ad0-d23a-427c-ab76-3385267588c9",
   "metadata": {},
   "outputs": [
    {
     "name": "stdout",
     "output_type": "stream",
     "text": [
      "[[ 0  1  2]\n",
      " [ 3  4  5]\n",
      " [ 6  7  8]\n",
      " [ 9 10 11]]\n"
     ]
    }
   ],
   "source": [
    "# 2d array\n",
    "lst_2d = np.arange(12).reshape(4, 3)\n",
    "print(lst_2d)"
   ]
  },
  {
   "cell_type": "code",
   "execution_count": 94,
   "id": "8e6efd30-02d3-41ee-85f4-506aeee556cf",
   "metadata": {},
   "outputs": [
    {
     "name": "stdout",
     "output_type": "stream",
     "text": [
      "[[[ 0  1  2  3]\n",
      "  [ 4  5  6  7]\n",
      "  [ 8  9 10 11]]\n",
      "\n",
      " [[12 13 14 15]\n",
      "  [16 17 18 19]\n",
      "  [20 21 22 23]]]\n"
     ]
    }
   ],
   "source": [
    "# 3d array\n",
    "lst_3d = np.arange(24).reshape(2, 3, 4)\n",
    "print(lst_3d)"
   ]
  },
  {
   "cell_type": "markdown",
   "id": "48226aea-3366-4b71-a11d-4d3a68bf215f",
   "metadata": {},
   "source": [
    "If an array is too large to be printed, NumPy automatically skips the central part of the array and only prints the corners:"
   ]
  },
  {
   "cell_type": "code",
   "execution_count": 97,
   "id": "a96e47af-5467-410f-a645-3b24149ff04d",
   "metadata": {},
   "outputs": [
    {
     "data": {
      "text/plain": [
       "array([[   0,    1,    2, ...,   97,   98,   99],\n",
       "       [ 100,  101,  102, ...,  197,  198,  199],\n",
       "       [ 200,  201,  202, ...,  297,  298,  299],\n",
       "       ...,\n",
       "       [9700, 9701, 9702, ..., 9797, 9798, 9799],\n",
       "       [9800, 9801, 9802, ..., 9897, 9898, 9899],\n",
       "       [9900, 9901, 9902, ..., 9997, 9998, 9999]])"
      ]
     },
     "execution_count": 97,
     "metadata": {},
     "output_type": "execute_result"
    }
   ],
   "source": [
    "big_lst = np.arange(10000).reshape(100,100)\n",
    "big_lst"
   ]
  },
  {
   "cell_type": "markdown",
   "id": "40a6f695-9202-451e-987b-bf41a0baac9e",
   "metadata": {},
   "source": [
    "To disable this behaviour and force NumPy to print the entire array, you can change the printing options using `set_printoptions`."
   ]
  },
  {
   "cell_type": "code",
   "execution_count": 98,
   "id": "3092a952-78fb-43ff-986a-e4fafd51f2f9",
   "metadata": {},
   "outputs": [],
   "source": [
    "# np.set_printoptions(threshold=sys.maxsize)  # sys module should be imported"
   ]
  },
  {
   "cell_type": "markdown",
   "id": "34c5b06c-9016-4bfc-bf8c-1c248399bd2c",
   "metadata": {},
   "source": [
    "### Basic Operations\n",
    "\n",
    "Arithmetic operators on arrays apply *elementwise*. A new array is created and filled with the result.\n",
    "\n"
   ]
  },
  {
   "cell_type": "code",
   "execution_count": 101,
   "id": "abc010e3-170e-44f9-8e51-cb89c2c08ec1",
   "metadata": {},
   "outputs": [
    {
     "name": "stdout",
     "output_type": "stream",
     "text": [
      "[10 19 28 37]\n",
      "[0 1 4 9]\n",
      "[-5.44021111  9.12945251 -9.88031624  7.4511316 ]\n",
      "[ True  True False False]\n"
     ]
    }
   ],
   "source": [
    "a = np.array([10, 20, 30, 40])\n",
    "b = np.arange(4)\n",
    "\n",
    "print(a - b)\n",
    "print(b ** 2)\n",
    "print(10 * np.sin(a))\n",
    "print(a < 21)"
   ]
  },
  {
   "cell_type": "code",
   "execution_count": 108,
   "id": "f340b30c-003d-4fdc-a148-42d94ae839cc",
   "metadata": {},
   "outputs": [
    {
     "name": "stdout",
     "output_type": "stream",
     "text": [
      "elementwise\n",
      "[[2 0]\n",
      " [0 4]]\n",
      "\n",
      "matrix\n",
      "[[5 4]\n",
      " [3 4]]\n",
      "\n",
      "matrix\n",
      "[[5 4]\n",
      " [3 4]]\n"
     ]
    }
   ],
   "source": [
    "# important part with product\n",
    "A = np.array([[1, 1],\n",
    "              [0, 1]])\n",
    "\n",
    "B = np.array([[2, 0],\n",
    "             [3, 4]])\n",
    "print('elementwise')\n",
    "print(A * B)    # elementwise product\n",
    "print('\\nmatrix')\n",
    "print(A @ B)    # matrix product\n",
    "print('\\nmatrix')\n",
    "print(A.dot(B)) # another matrix product\n",
    "\n"
   ]
  },
  {
   "cell_type": "markdown",
   "id": "abe2d071-faee-4a2e-a7c2-548f13769a59",
   "metadata": {},
   "source": [
    "Some operations, such as `+=` and `*=`, act in place to **modify an existing array** rather than create a new one."
   ]
  },
  {
   "cell_type": "code",
   "execution_count": 125,
   "id": "11fa4888-456b-4eb3-a1c7-d57869371005",
   "metadata": {},
   "outputs": [],
   "source": [
    "a = np.ones([3, 4], dtype=int)\n",
    "b = np.empty([3, 4], dtype=np.float16)"
   ]
  },
  {
   "cell_type": "code",
   "execution_count": 126,
   "id": "c71b5e81-29ac-498e-bc0f-e2d0233648f5",
   "metadata": {},
   "outputs": [
    {
     "name": "stdout",
     "output_type": "stream",
     "text": [
      "before:\n",
      " [[1 1 1 1]\n",
      " [1 1 1 1]\n",
      " [1 1 1 1]]\n",
      "\n",
      "after:\n",
      " [[3 3 3 3]\n",
      " [3 3 3 3]\n",
      " [3 3 3 3]]\n"
     ]
    }
   ],
   "source": [
    "print('before:\\n', a)\n",
    "a *= 3\n",
    "print('\\nafter:\\n', a)"
   ]
  },
  {
   "cell_type": "code",
   "execution_count": 127,
   "id": "bc36b23f-d506-4c59-a956-b17566a8b0e8",
   "metadata": {},
   "outputs": [
    {
     "name": "stdout",
     "output_type": "stream",
     "text": [
      "before:\n",
      " [[ 9.     9.     9.    10.984]\n",
      " [ 9.     9.     9.    10.99 ]\n",
      " [ 9.     9.     9.    11.   ]]\n",
      "\n",
      "after:\n",
      " [[12.    12.    12.    13.984]\n",
      " [12.    12.    12.    13.99 ]\n",
      " [12.    12.    12.    14.   ]]\n"
     ]
    }
   ],
   "source": [
    "print('before:\\n', b)\n",
    "b += a\n",
    "print('\\nafter:\\n', b)"
   ]
  },
  {
   "cell_type": "code",
   "execution_count": 128,
   "id": "d91279b8-88e9-4ea0-9678-02e0c31aaf10",
   "metadata": {},
   "outputs": [
    {
     "ename": "UFuncTypeError",
     "evalue": "Cannot cast ufunc 'add' output from dtype('float64') to dtype('int64') with casting rule 'same_kind'",
     "output_type": "error",
     "traceback": [
      "\u001b[0;31m---------------------------------------------------------------------------\u001b[0m",
      "\u001b[0;31mUFuncTypeError\u001b[0m                            Traceback (most recent call last)",
      "\u001b[0;32m/tmp/ipykernel_7156/2566101432.py\u001b[0m in \u001b[0;36m<module>\u001b[0;34m\u001b[0m\n\u001b[0;32m----> 1\u001b[0;31m \u001b[0ma\u001b[0m \u001b[0;34m+=\u001b[0m \u001b[0mb\u001b[0m  \u001b[0;31m# b is not automatically converted to integer type\u001b[0m\u001b[0;34m\u001b[0m\u001b[0;34m\u001b[0m\u001b[0m\n\u001b[0m",
      "\u001b[0;31mUFuncTypeError\u001b[0m: Cannot cast ufunc 'add' output from dtype('float64') to dtype('int64') with casting rule 'same_kind'"
     ]
    }
   ],
   "source": [
    "a += b  # b is not automatically converted to integer type"
   ]
  },
  {
   "cell_type": "code",
   "execution_count": 138,
   "id": "a8f7afe5-b48f-4f48-b765-8f47bafe3923",
   "metadata": {},
   "outputs": [
    {
     "data": {
      "text/plain": [
       "'float64'"
      ]
     },
     "execution_count": 138,
     "metadata": {},
     "output_type": "execute_result"
    }
   ],
   "source": [
    "a = np.ones(3, dtype=np.int32)\n",
    "b = np.linspace(0, np.pi, 3)\n",
    "b.dtype.name"
   ]
  },
  {
   "cell_type": "code",
   "execution_count": 140,
   "id": "c34f2fbb-f70f-4e2f-bf3e-3e0793b8a613",
   "metadata": {},
   "outputs": [
    {
     "data": {
      "text/plain": [
       "array([1.        , 2.57079633, 4.14159265])"
      ]
     },
     "execution_count": 140,
     "metadata": {},
     "output_type": "execute_result"
    }
   ],
   "source": [
    "c = a + b\n",
    "c"
   ]
  },
  {
   "cell_type": "code",
   "execution_count": 141,
   "id": "f2e613ac-8f3d-4c6f-aa74-898cb3c2328d",
   "metadata": {},
   "outputs": [
    {
     "data": {
      "text/plain": [
       "'float64'"
      ]
     },
     "execution_count": 141,
     "metadata": {},
     "output_type": "execute_result"
    }
   ],
   "source": [
    "c.dtype.name"
   ]
  },
  {
   "cell_type": "code",
   "execution_count": 143,
   "id": "9c267470-5051-435b-b155-3349d5a281ad",
   "metadata": {},
   "outputs": [
    {
     "data": {
      "text/plain": [
       "array([ 0.54030231+0.84147098j, -0.84147098+0.54030231j,\n",
       "       -0.54030231-0.84147098j])"
      ]
     },
     "execution_count": 143,
     "metadata": {},
     "output_type": "execute_result"
    }
   ],
   "source": [
    "d = np.exp(c * 1j)\n",
    "d"
   ]
  },
  {
   "cell_type": "code",
   "execution_count": 148,
   "id": "02de7a07-ac2e-49a3-8309-c7088a3a2710",
   "metadata": {},
   "outputs": [
    {
     "data": {
      "text/plain": [
       "'complex128'"
      ]
     },
     "execution_count": 148,
     "metadata": {},
     "output_type": "execute_result"
    }
   ],
   "source": [
    "d.dtype.name"
   ]
  },
  {
   "cell_type": "markdown",
   "id": "fd4b46ef-12fe-4b02-89e8-5e4ce1f232e2",
   "metadata": {},
   "source": [
    "Many unary operations, such as computing the sum of all the elements in the array, are implemented as methods of the ndarray class."
   ]
  },
  {
   "cell_type": "code",
   "execution_count": 149,
   "id": "a2830c9d-4d01-4281-87ec-b047fa7f869b",
   "metadata": {},
   "outputs": [],
   "source": [
    "lst = np.empty([3, 5], dtype=np.float16)"
   ]
  },
  {
   "cell_type": "code",
   "execution_count": 152,
   "id": "1205c8c3-f646-4313-93ef-b00c92c07d1d",
   "metadata": {},
   "outputs": [
    {
     "data": {
      "text/plain": [
       "array([[ 7.568e-03, -1.526e+01,  9.050e+01,  0.000e+00,  0.000e+00],\n",
       "       [ 0.000e+00,  0.000e+00,  0.000e+00,  3.877e-01,  1.311e-01],\n",
       "       [ 3.159e-06,  0.000e+00,  3.874e-06,  0.000e+00,  0.000e+00]],\n",
       "      dtype=float16)"
      ]
     },
     "execution_count": 152,
     "metadata": {},
     "output_type": "execute_result"
    }
   ],
   "source": [
    "lst"
   ]
  },
  {
   "cell_type": "code",
   "execution_count": 150,
   "id": "cf925b3b-8954-4bf6-a8cf-0132d9a37518",
   "metadata": {},
   "outputs": [
    {
     "data": {
      "text/plain": [
       "-15.26"
      ]
     },
     "execution_count": 150,
     "metadata": {},
     "output_type": "execute_result"
    }
   ],
   "source": [
    "lst.min()"
   ]
  },
  {
   "cell_type": "code",
   "execution_count": 151,
   "id": "5a2e8153-5281-449e-bc3c-9d1a1212a1c3",
   "metadata": {},
   "outputs": [
    {
     "data": {
      "text/plain": [
       "90.5"
      ]
     },
     "execution_count": 151,
     "metadata": {},
     "output_type": "execute_result"
    }
   ],
   "source": [
    "lst.max()"
   ]
  },
  {
   "cell_type": "code",
   "execution_count": 153,
   "id": "5b7b51d1-8af6-4177-8862-6ab418c1e9d1",
   "metadata": {},
   "outputs": [
    {
     "data": {
      "text/plain": [
       "75.75"
      ]
     },
     "execution_count": 153,
     "metadata": {},
     "output_type": "execute_result"
    }
   ],
   "source": [
    "lst.sum()"
   ]
  },
  {
   "cell_type": "code",
   "execution_count": 154,
   "id": "992533ab-200e-48cc-9c68-c18f5629b700",
   "metadata": {},
   "outputs": [
    {
     "data": {
      "text/plain": [
       "5.05"
      ]
     },
     "execution_count": 154,
     "metadata": {},
     "output_type": "execute_result"
    }
   ],
   "source": [
    "lst.mean()"
   ]
  },
  {
   "cell_type": "markdown",
   "id": "d8877103-f245-4ae8-a0c1-8cec8116d8e4",
   "metadata": {},
   "source": [
    "By default, these operations apply to the array as though it were a list of numbers, regardless of its shape. However, by specifying the axis parameter you can apply an operation along the specified `axis` of an array:"
   ]
  },
  {
   "cell_type": "code",
   "execution_count": 155,
   "id": "63764b4c-5118-4718-a085-7f7e7a615111",
   "metadata": {},
   "outputs": [
    {
     "data": {
      "text/plain": [
       "array([[ 0,  1,  2,  3],\n",
       "       [ 4,  5,  6,  7],\n",
       "       [ 8,  9, 10, 11]])"
      ]
     },
     "execution_count": 155,
     "metadata": {},
     "output_type": "execute_result"
    }
   ],
   "source": [
    "b = np.arange(12).reshape(3, 4)\n",
    "b"
   ]
  },
  {
   "cell_type": "code",
   "execution_count": 160,
   "id": "48f12a5d-c66d-417c-bfe9-6fb38bc74682",
   "metadata": {},
   "outputs": [
    {
     "data": {
      "text/plain": [
       "array([0, 1, 2, 3])"
      ]
     },
     "execution_count": 160,
     "metadata": {},
     "output_type": "execute_result"
    }
   ],
   "source": [
    "# min of each column\n",
    "b.min(axis=0) "
   ]
  },
  {
   "cell_type": "code",
   "execution_count": 161,
   "id": "d1a8400a-5301-4609-aa73-82d4eac07c75",
   "metadata": {},
   "outputs": [
    {
     "data": {
      "text/plain": [
       "array([0, 4, 8])"
      ]
     },
     "execution_count": 161,
     "metadata": {},
     "output_type": "execute_result"
    }
   ],
   "source": [
    "# min of each row\n",
    "b.min(axis=1)"
   ]
  },
  {
   "cell_type": "code",
   "execution_count": 163,
   "id": "e9b96a33-6d66-4aa0-92a8-e45607b3d643",
   "metadata": {},
   "outputs": [
    {
     "data": {
      "text/plain": [
       "array([ 6, 22, 38])"
      ]
     },
     "execution_count": 163,
     "metadata": {},
     "output_type": "execute_result"
    }
   ],
   "source": [
    "# sum of each row\n",
    "b.sum(axis=1)"
   ]
  },
  {
   "cell_type": "code",
   "execution_count": 170,
   "id": "4d8153a5-d00d-4664-9431-bd7f76c4b53b",
   "metadata": {},
   "outputs": [
    {
     "data": {
      "text/plain": [
       "array([ 0,  1,  3,  6, 10, 15, 21, 28, 36, 45, 55, 66])"
      ]
     },
     "execution_count": 170,
     "metadata": {},
     "output_type": "execute_result"
    }
   ],
   "source": [
    "b.cumsum()"
   ]
  },
  {
   "cell_type": "code",
   "execution_count": 164,
   "id": "43ad5942-9f2e-460d-bb72-01c8c8bae04a",
   "metadata": {},
   "outputs": [
    {
     "data": {
      "text/plain": [
       "array([[ 0,  1,  3,  6],\n",
       "       [ 4,  9, 15, 22],\n",
       "       [ 8, 17, 27, 38]])"
      ]
     },
     "execution_count": 164,
     "metadata": {},
     "output_type": "execute_result"
    }
   ],
   "source": [
    "b.cumsum(axis=1)  # cumulative sum along each row"
   ]
  },
  {
   "cell_type": "markdown",
   "id": "513f4717-4920-4148-87d7-133605fb44fc",
   "metadata": {},
   "source": [
    "### Universal Function\n",
    "\n",
    "NumPy provides familiar mathematical functions such as sin, cos, and exp. In NumPy, these are called *“universal functions”* (`ufunc`). Within NumPy, these functions operate elementwise on an array, producing an array as output."
   ]
  },
  {
   "cell_type": "code",
   "execution_count": 171,
   "id": "cd8b40c3-d819-4fbd-a38c-3b510e67892e",
   "metadata": {},
   "outputs": [
    {
     "data": {
      "text/plain": [
       "array([0, 1, 2])"
      ]
     },
     "execution_count": 171,
     "metadata": {},
     "output_type": "execute_result"
    }
   ],
   "source": [
    "B = np.arange(3)\n",
    "B"
   ]
  },
  {
   "cell_type": "code",
   "execution_count": 172,
   "id": "954879de-ff27-4c3d-8fb4-b7324ee43554",
   "metadata": {},
   "outputs": [
    {
     "data": {
      "text/plain": [
       "array([1.        , 2.71828183, 7.3890561 ])"
      ]
     },
     "execution_count": 172,
     "metadata": {},
     "output_type": "execute_result"
    }
   ],
   "source": [
    "np.exp(B)"
   ]
  },
  {
   "cell_type": "code",
   "execution_count": 173,
   "id": "88c45476-4975-4f80-afff-46c02de174d8",
   "metadata": {},
   "outputs": [
    {
     "data": {
      "text/plain": [
       "array([0.        , 0.84147098, 0.90929743])"
      ]
     },
     "execution_count": 173,
     "metadata": {},
     "output_type": "execute_result"
    }
   ],
   "source": [
    "np.sin(B)"
   ]
  },
  {
   "cell_type": "code",
   "execution_count": 174,
   "id": "42299e51-3d54-4853-8768-8f7b4e1ec78d",
   "metadata": {},
   "outputs": [
    {
     "data": {
      "text/plain": [
       "array([0.        , 1.        , 1.41421356])"
      ]
     },
     "execution_count": 174,
     "metadata": {},
     "output_type": "execute_result"
    }
   ],
   "source": [
    "np.sqrt(B)"
   ]
  },
  {
   "cell_type": "code",
   "execution_count": 175,
   "id": "9b8b5e71-c8eb-4e83-a576-400a98642ece",
   "metadata": {},
   "outputs": [
    {
     "data": {
      "text/plain": [
       "array([2., 0., 6.])"
      ]
     },
     "execution_count": 175,
     "metadata": {},
     "output_type": "execute_result"
    }
   ],
   "source": [
    "C = np.array([2., -1., 4.])\n",
    "np.add(B, C)"
   ]
  },
  {
   "cell_type": "markdown",
   "id": "bac6edd2-8c69-4658-944c-853f8a8f7378",
   "metadata": {},
   "source": [
    "### Indexing, Slicing and Iterating"
   ]
  },
  {
   "cell_type": "markdown",
   "id": "8600902c-4f77-4dc0-8ede-ba01852935ea",
   "metadata": {},
   "source": [
    "**One-dimensional** arrays can be indexed, sliced and iterated over, much like lists and other Python sequences."
   ]
  },
  {
   "cell_type": "code",
   "execution_count": 178,
   "id": "e27dd531-1ea4-4dca-a8d5-98df03790e98",
   "metadata": {},
   "outputs": [
    {
     "data": {
      "text/plain": [
       "array([   0,    1,    8,   27,   64,  125,  216,  343,  512,  729, 1000,\n",
       "       1331, 1728, 2197, 2744])"
      ]
     },
     "execution_count": 178,
     "metadata": {},
     "output_type": "execute_result"
    }
   ],
   "source": [
    "a = np.arange(15) ** 3\n",
    "a"
   ]
  },
  {
   "cell_type": "code",
   "execution_count": 179,
   "id": "dc82be4f-a12b-4f5a-ab7b-acc055c64f98",
   "metadata": {},
   "outputs": [
    {
     "data": {
      "text/plain": [
       "8"
      ]
     },
     "execution_count": 179,
     "metadata": {},
     "output_type": "execute_result"
    }
   ],
   "source": [
    "a[2]"
   ]
  },
  {
   "cell_type": "code",
   "execution_count": 180,
   "id": "394ef96f-84bb-41e0-a048-6dafb53ba7e3",
   "metadata": {},
   "outputs": [
    {
     "data": {
      "text/plain": [
       "array([ 8, 27, 64])"
      ]
     },
     "execution_count": 180,
     "metadata": {},
     "output_type": "execute_result"
    }
   ],
   "source": [
    "a[2:5]"
   ]
  },
  {
   "cell_type": "code",
   "execution_count": 183,
   "id": "2b89e9a5-99c2-4dc3-b6f9-5de28fd6e7aa",
   "metadata": {},
   "outputs": [
    {
     "data": {
      "text/plain": [
       "array([ 0,  8, 64])"
      ]
     },
     "execution_count": 183,
     "metadata": {},
     "output_type": "execute_result"
    }
   ],
   "source": [
    "a[:6:2]"
   ]
  },
  {
   "cell_type": "code",
   "execution_count": 186,
   "id": "81b4a253-6910-4a76-be93-ca1851aa6c99",
   "metadata": {},
   "outputs": [
    {
     "data": {
      "text/plain": [
       "array([1000,    1, 1000,   27, 1000,  125,  216,  343,  512,  729, 1000,\n",
       "       1331, 1728, 2197, 2744])"
      ]
     },
     "execution_count": 186,
     "metadata": {},
     "output_type": "execute_result"
    }
   ],
   "source": [
    "# equivalent to a[0:6:2] = 1000;\n",
    "# from start to position 6, exclusive, set every 2nd element to 1000\n",
    "a[:6:2] = 1000 \n",
    "a"
   ]
  },
  {
   "cell_type": "code",
   "execution_count": 187,
   "id": "4d39ff13-0dc2-463e-be0e-17a4dcd1bbda",
   "metadata": {},
   "outputs": [
    {
     "data": {
      "text/plain": [
       "array([2744, 2197, 1728, 1331, 1000,  729,  512,  343,  216,  125, 1000,\n",
       "         27, 1000,    1, 1000])"
      ]
     },
     "execution_count": 187,
     "metadata": {},
     "output_type": "execute_result"
    }
   ],
   "source": [
    "a[::-1]"
   ]
  },
  {
   "cell_type": "code",
   "execution_count": 188,
   "id": "2e032c2a-6cdf-4d5e-a503-a3541e6cf637",
   "metadata": {},
   "outputs": [
    {
     "name": "stdout",
     "output_type": "stream",
     "text": [
      "9.999999999999998\n",
      "1.0\n",
      "9.999999999999998\n",
      "3.0\n",
      "9.999999999999998\n",
      "4.999999999999999\n",
      "5.999999999999999\n",
      "6.999999999999999\n",
      "7.999999999999999\n",
      "8.999999999999998\n",
      "9.999999999999998\n",
      "10.999999999999998\n",
      "11.999999999999998\n",
      "12.999999999999998\n",
      "13.999999999999998\n"
     ]
    }
   ],
   "source": [
    "for i in a:\n",
    "    print(i**(1 / 3.))"
   ]
  },
  {
   "cell_type": "markdown",
   "id": "a7895cf2-2f4b-41d7-bd90-33cd33e68e1a",
   "metadata": {},
   "source": [
    "**Multidimensional arrays** can have one index per axis. These indices are given in a tuple separated by commas:"
   ]
  },
  {
   "cell_type": "code",
   "execution_count": 189,
   "id": "b3a65537-1cf8-4401-b600-018ff7640946",
   "metadata": {},
   "outputs": [
    {
     "data": {
      "text/plain": [
       "array([[ 0,  1,  2,  3],\n",
       "       [10, 11, 12, 13],\n",
       "       [20, 21, 22, 23],\n",
       "       [30, 31, 32, 33],\n",
       "       [40, 41, 42, 43]])"
      ]
     },
     "execution_count": 189,
     "metadata": {},
     "output_type": "execute_result"
    }
   ],
   "source": [
    "def f(x, y):\n",
    "    return 10 * x + y\n",
    "\n",
    "b = np.fromfunction(f, (5, 4), dtype=int)\n",
    "b"
   ]
  },
  {
   "cell_type": "code",
   "execution_count": 194,
   "id": "72986f1a-0056-4e47-8312-45cb4363248a",
   "metadata": {},
   "outputs": [
    {
     "data": {
      "text/plain": [
       "23"
      ]
     },
     "execution_count": 194,
     "metadata": {},
     "output_type": "execute_result"
    }
   ],
   "source": [
    "b[2, 3]"
   ]
  },
  {
   "cell_type": "code",
   "execution_count": 193,
   "id": "8c76df26-a5fc-4c4c-8f9c-4036ad569839",
   "metadata": {},
   "outputs": [
    {
     "data": {
      "text/plain": [
       "array([ 1, 11, 21, 31, 41])"
      ]
     },
     "execution_count": 193,
     "metadata": {},
     "output_type": "execute_result"
    }
   ],
   "source": [
    "# each row in the second column of b\n",
    "b[0:5, 1] "
   ]
  },
  {
   "cell_type": "code",
   "execution_count": 195,
   "id": "62ec7573-fd17-4e14-bd8f-7c5876a59d53",
   "metadata": {},
   "outputs": [
    {
     "data": {
      "text/plain": [
       "array([ 1, 11, 21, 31, 41])"
      ]
     },
     "execution_count": 195,
     "metadata": {},
     "output_type": "execute_result"
    }
   ],
   "source": [
    "# equivalent to the previous example\n",
    "b[:, 1]"
   ]
  },
  {
   "cell_type": "code",
   "execution_count": 197,
   "id": "5d49a659-9c40-4044-8a66-e1ecc99e41e1",
   "metadata": {},
   "outputs": [
    {
     "data": {
      "text/plain": [
       "array([[10, 11, 12, 13],\n",
       "       [20, 21, 22, 23]])"
      ]
     },
     "execution_count": 197,
     "metadata": {},
     "output_type": "execute_result"
    }
   ],
   "source": [
    "# each column in the second and third row of b\n",
    "b[1:3, :]"
   ]
  },
  {
   "cell_type": "markdown",
   "id": "e6d81c1c-109f-431c-939a-47812a35e737",
   "metadata": {},
   "source": [
    "When fewer indices are provided than the number of axes, the missing indices are considered complete slices:"
   ]
  },
  {
   "cell_type": "code",
   "execution_count": 198,
   "id": "f1e3343d-e781-4797-854c-2bce5b84d8a0",
   "metadata": {},
   "outputs": [
    {
     "data": {
      "text/plain": [
       "array([40, 41, 42, 43])"
      ]
     },
     "execution_count": 198,
     "metadata": {},
     "output_type": "execute_result"
    }
   ],
   "source": [
    "b[-1]"
   ]
  },
  {
   "cell_type": "markdown",
   "id": "5facc454-0254-4104-84c4-bff91f17fe60",
   "metadata": {},
   "source": [
    "The expression within brackets in `b[i]` is treated as an `i` followed by as many instances of `:` as needed to represent the remaining axes. NumPy also allows you to write this using dots as `b[i, ...]`.\n",
    "\n",
    "The **dots** (`...`) represent as many colons as needed to produce a complete indexing tuple. For example, if `x` is an array with 5 axes, then:\n",
    "\n",
    "* `x[1, 2, ...]` is equivalent to `x[1, 2, :, :, :]`,\n",
    "\n",
    "* `x[..., 3]` to `x[:, :, :, :, 3]` and\n",
    "\n",
    "* `x[4, ..., 5, :]` to `x[4, :, :, 5, :]`.\n",
    "\n"
   ]
  },
  {
   "cell_type": "code",
   "execution_count": 199,
   "id": "ea4e39cf-faa7-44af-a582-5e34342e32fe",
   "metadata": {},
   "outputs": [],
   "source": [
    "# a 3D array (two stacked 2D arrays)\n",
    "c = np.array([[[  0,  1,  2],\n",
    "               [ 10, 12, 13]],\n",
    "              [[100, 101, 102],\n",
    "               [110, 112, 113]]])\n"
   ]
  },
  {
   "cell_type": "code",
   "execution_count": 200,
   "id": "a2ec1a24-aa19-4fd9-b14b-ee60d8f764e5",
   "metadata": {},
   "outputs": [
    {
     "data": {
      "text/plain": [
       "(2, 2, 3)"
      ]
     },
     "execution_count": 200,
     "metadata": {},
     "output_type": "execute_result"
    }
   ],
   "source": [
    "c.shape"
   ]
  },
  {
   "cell_type": "code",
   "execution_count": 204,
   "id": "e447b5bb-06f3-428f-81dd-ea168711c5eb",
   "metadata": {},
   "outputs": [
    {
     "data": {
      "text/plain": [
       "array([[100, 101, 102],\n",
       "       [110, 112, 113]])"
      ]
     },
     "execution_count": 204,
     "metadata": {},
     "output_type": "execute_result"
    }
   ],
   "source": [
    "# same as c[1, :, :] or c[1]\n",
    "c[1, ...]"
   ]
  },
  {
   "cell_type": "code",
   "execution_count": 205,
   "id": "b4990098-3c3f-4617-aff8-dfad92394bfd",
   "metadata": {},
   "outputs": [
    {
     "data": {
      "text/plain": [
       "array([[  2,  13],\n",
       "       [102, 113]])"
      ]
     },
     "execution_count": 205,
     "metadata": {},
     "output_type": "execute_result"
    }
   ],
   "source": [
    "# same as c[:, :, 2]\n",
    "c[..., 2]"
   ]
  },
  {
   "cell_type": "markdown",
   "id": "34af62df-dbd6-4718-9106-9e5e7466529d",
   "metadata": {},
   "source": [
    "**Iterating** over multidimensional arrays is done with respect to the first axis:\n",
    "\n"
   ]
  },
  {
   "cell_type": "code",
   "execution_count": 206,
   "id": "13396105-98f6-4705-b19b-3964b3812daa",
   "metadata": {},
   "outputs": [
    {
     "name": "stdout",
     "output_type": "stream",
     "text": [
      "[0 1 2 3]\n",
      "[10 11 12 13]\n",
      "[20 21 22 23]\n",
      "[30 31 32 33]\n",
      "[40 41 42 43]\n"
     ]
    }
   ],
   "source": [
    "for row in b:\n",
    "    print(row)"
   ]
  },
  {
   "cell_type": "code",
   "execution_count": 207,
   "id": "6d40503a-5755-4426-a479-6d5bb2c62dbb",
   "metadata": {},
   "outputs": [],
   "source": [
    "# However, if one wants to perform an operation on each element in the array, one can use the flat attribute which is an iterator over all the elements of the array:"
   ]
  },
  {
   "cell_type": "code",
   "execution_count": 208,
   "id": "07fa5717-1106-480c-ab3c-98adc05c44d9",
   "metadata": {},
   "outputs": [
    {
     "name": "stdout",
     "output_type": "stream",
     "text": [
      "0\n",
      "1\n",
      "2\n",
      "3\n",
      "10\n",
      "11\n",
      "12\n",
      "13\n",
      "20\n",
      "21\n",
      "22\n",
      "23\n",
      "30\n",
      "31\n",
      "32\n",
      "33\n",
      "40\n",
      "41\n",
      "42\n",
      "43\n"
     ]
    }
   ],
   "source": [
    "for element in b.flat:\n",
    "    print(element)"
   ]
  },
  {
   "cell_type": "markdown",
   "id": "5ce1670f-ff7c-453c-8f83-6cf153dd407d",
   "metadata": {},
   "source": [
    "### Shape Manipulation"
   ]
  },
  {
   "cell_type": "markdown",
   "id": "a3d4a474-d5e3-416a-b0cd-eeb83bb3dc97",
   "metadata": {},
   "source": [
    "#### Changing the shape of an array\n",
    "\n",
    "> `numpy.ravel(a, order='C')`\n",
    "\n",
    "Return a contiguous flattened array.\n",
    "\n",
    ">> **some parameters:**\n",
    "\n",
    ">>> **order{‘C’,’F’, ‘A’, ‘K’}, optional**:\n",
    "\n",
    "The elements of a are read using this index order. ‘C’ means to index the elements in row-major, C-style order, with the last axis index changing fastest, back to the first axis index changing slowest. ‘F’ means to index the elements in column-major, Fortran-style order, with the first index changing fastest, and the last index changing slowest. Note that the ‘C’ and ‘F’ options take no account of the memory layout of the underlying array, and only refer to the order of axis indexing. ‘A’ means to read the elements in Fortran-like index order if a is Fortran contiguous in memory, C-like order otherwise. ‘K’ means to read the elements in the order they occur in memory, except for reversing the data when strides are negative. By default, ‘C’ index order is used.\n",
    "\n",
    "> `ndarray.T`\n",
    "\n",
    "The transposed array.\n",
    "\n",
    "> `ndarray.resize(new_shape, refcheck=True)`\n",
    "\n",
    "Change shape and size of array in-place.\n",
    "\n"
   ]
  },
  {
   "cell_type": "code",
   "execution_count": 225,
   "id": "c361a87f-9544-4936-a1be-a50924fd2603",
   "metadata": {},
   "outputs": [
    {
     "data": {
      "text/plain": [
       "array([[3., 1., 7., 7.],\n",
       "       [4., 2., 3., 2.],\n",
       "       [4., 4., 2., 9.]])"
      ]
     },
     "execution_count": 225,
     "metadata": {},
     "output_type": "execute_result"
    }
   ],
   "source": [
    "a = np.array([3, 1, 7, 7, 4, 2, 3, 2, 4, 4, 2, 9], dtype=float).reshape(3, 4)\n",
    "a"
   ]
  },
  {
   "cell_type": "code",
   "execution_count": 227,
   "id": "342ff2e8-a9c2-41cc-bd06-e847174f67fb",
   "metadata": {},
   "outputs": [
    {
     "data": {
      "text/plain": [
       "(3, 4)"
      ]
     },
     "execution_count": 227,
     "metadata": {},
     "output_type": "execute_result"
    }
   ],
   "source": [
    "a.shape"
   ]
  },
  {
   "cell_type": "code",
   "execution_count": 231,
   "id": "123f6d87-08af-45b5-9953-b576a7e0c52f",
   "metadata": {},
   "outputs": [
    {
     "data": {
      "text/plain": [
       "array([3., 1., 7., 7., 4., 2., 3., 2., 4., 4., 2., 9.])"
      ]
     },
     "execution_count": 231,
     "metadata": {},
     "output_type": "execute_result"
    }
   ],
   "source": [
    "# returns the array, flattened\n",
    "a.ravel()"
   ]
  },
  {
   "cell_type": "code",
   "execution_count": 230,
   "id": "e60d7ffd-769b-4e04-9693-215f8c1f4e69",
   "metadata": {},
   "outputs": [
    {
     "data": {
      "text/plain": [
       "array([3., 1., 7., 7., 4., 2., 3., 2., 4., 4., 2., 9.])"
      ]
     },
     "execution_count": 230,
     "metadata": {},
     "output_type": "execute_result"
    }
   ],
   "source": [
    "# same\n",
    "np.ravel(a)"
   ]
  },
  {
   "cell_type": "code",
   "execution_count": 234,
   "id": "0760440a-c81a-4b0b-8356-a047ca02a7cf",
   "metadata": {},
   "outputs": [
    {
     "data": {
      "text/plain": [
       "array([3., 4., 4., 1., 2., 4., 7., 3., 2., 7., 2., 9.])"
      ]
     },
     "execution_count": 234,
     "metadata": {},
     "output_type": "execute_result"
    }
   ],
   "source": [
    "# fortran like order\n",
    "np.ravel(a, order='F')"
   ]
  },
  {
   "cell_type": "code",
   "execution_count": 243,
   "id": "fe8fc54b-2ac6-403d-a5a6-314ea67d8fc0",
   "metadata": {},
   "outputs": [
    {
     "data": {
      "text/plain": [
       "array([[3., 1.],\n",
       "       [7., 7.],\n",
       "       [4., 2.],\n",
       "       [3., 2.],\n",
       "       [4., 4.],\n",
       "       [2., 9.]])"
      ]
     },
     "execution_count": 243,
     "metadata": {},
     "output_type": "execute_result"
    }
   ],
   "source": [
    "a = a.reshape(6, 2)\n",
    "a"
   ]
  },
  {
   "cell_type": "code",
   "execution_count": 244,
   "id": "27857c41-5611-4dd8-ab8a-96f4b8f00d41",
   "metadata": {},
   "outputs": [
    {
     "data": {
      "text/plain": [
       "array([[3., 7., 4., 3., 4., 2.],\n",
       "       [1., 7., 2., 2., 4., 9.]])"
      ]
     },
     "execution_count": 244,
     "metadata": {},
     "output_type": "execute_result"
    }
   ],
   "source": [
    "# returns the array, transposed\n",
    "a = a.T\n",
    "a"
   ]
  },
  {
   "cell_type": "code",
   "execution_count": 245,
   "id": "e6586143-064e-4e2d-bc49-aa4fcaf554bf",
   "metadata": {},
   "outputs": [
    {
     "data": {
      "text/plain": [
       "(2, 6)"
      ]
     },
     "execution_count": 245,
     "metadata": {},
     "output_type": "execute_result"
    }
   ],
   "source": [
    "a.shape"
   ]
  },
  {
   "cell_type": "code",
   "execution_count": 246,
   "id": "9cf99a7e-109a-4b9e-9bf5-2d6b73f15c86",
   "metadata": {},
   "outputs": [
    {
     "data": {
      "text/plain": [
       "(6, 2)"
      ]
     },
     "execution_count": 246,
     "metadata": {},
     "output_type": "execute_result"
    }
   ],
   "source": [
    "a.T.shape"
   ]
  },
  {
   "cell_type": "markdown",
   "id": "08d679f9-e8ee-436c-ac5e-d01df99d6908",
   "metadata": {},
   "source": [
    "The `reshape` function returns its argument with a modified shape, whereas the `ndarray.resize` method modifies the array itself:"
   ]
  },
  {
   "cell_type": "code",
   "execution_count": 247,
   "id": "e6b65277-a9f2-4374-bc24-48bc9c438316",
   "metadata": {},
   "outputs": [
    {
     "data": {
      "text/plain": [
       "array([[3., 7., 4., 3., 4., 2.],\n",
       "       [1., 7., 2., 2., 4., 9.]])"
      ]
     },
     "execution_count": 247,
     "metadata": {},
     "output_type": "execute_result"
    }
   ],
   "source": [
    "a"
   ]
  },
  {
   "cell_type": "code",
   "execution_count": 251,
   "id": "534b6c24-bb86-491d-8bb2-ad13654a740a",
   "metadata": {},
   "outputs": [],
   "source": [
    "# change shape in-place\n",
    "a.resize(4, 3)"
   ]
  },
  {
   "cell_type": "code",
   "execution_count": 249,
   "id": "9bb39ddd-0eda-400c-86d0-431807129e12",
   "metadata": {},
   "outputs": [
    {
     "data": {
      "text/plain": [
       "array([[3., 4., 4.],\n",
       "       [1., 2., 4.],\n",
       "       [7., 3., 2.],\n",
       "       [7., 2., 9.]])"
      ]
     },
     "execution_count": 249,
     "metadata": {},
     "output_type": "execute_result"
    }
   ],
   "source": [
    "a"
   ]
  },
  {
   "cell_type": "code",
   "execution_count": 250,
   "id": "8e60cbc9-ed4f-48c6-abdc-d0aeefae40c2",
   "metadata": {},
   "outputs": [
    {
     "data": {
      "text/plain": [
       "(4, 3)"
      ]
     },
     "execution_count": 250,
     "metadata": {},
     "output_type": "execute_result"
    }
   ],
   "source": [
    "a.shape"
   ]
  },
  {
   "cell_type": "markdown",
   "id": "7f46ed75-6fa6-4a8e-b51e-8f0c0ce4681e",
   "metadata": {},
   "source": [
    "If a dimension is given as -1 in a reshaping operation, the other dimensions are automatically calculated **(ONLY FOR** `reshape`**)**:"
   ]
  },
  {
   "cell_type": "code",
   "execution_count": 254,
   "id": "ce87eae8-21f9-4e42-925f-f5117f09c289",
   "metadata": {},
   "outputs": [
    {
     "data": {
      "text/plain": [
       "array([[3., 4.],\n",
       "       [4., 1.],\n",
       "       [2., 4.],\n",
       "       [7., 3.],\n",
       "       [2., 7.],\n",
       "       [2., 9.]])"
      ]
     },
     "execution_count": 254,
     "metadata": {},
     "output_type": "execute_result"
    }
   ],
   "source": [
    "a.reshape(-1, 2)"
   ]
  },
  {
   "cell_type": "markdown",
   "id": "241a2464-fd2b-46f0-bf85-e7afe078c47c",
   "metadata": {},
   "source": [
    "### Stacking together different arrays\n",
    "\n",
    "> `numpy.vstack(tup)`\n",
    "\n",
    "Stack arrays in sequence vertically (row wise)\n",
    "\n",
    "> `numpy.hstack(tup)`\n",
    "\n",
    "Stack arrays in sequence horizontally (column wise).\n",
    "\n",
    "\n",
    "> `numpy.column_stack(tup)`\n",
    "\n",
    "Stack 1-D arrays as columns into a 2-D array.\n",
    "\n",
    "Take a sequence of 1-D arrays and stack them as columns to make a single 2-D array. 2-D arrays are stacked as-is, just like with hstack. 1-D arrays are turned into 2-D columns first."
   ]
  },
  {
   "cell_type": "code",
   "execution_count": 267,
   "id": "e42ffa7a-1889-45c4-8e50-d9d008a85fb2",
   "metadata": {},
   "outputs": [
    {
     "data": {
      "text/plain": [
       "array([[5., 0.],\n",
       "       [7., 5.]])"
      ]
     },
     "execution_count": 267,
     "metadata": {},
     "output_type": "execute_result"
    }
   ],
   "source": [
    "# Several arrays can be stacked together along different axes:\n",
    "a = np.floor(10 * rg.random((2, 2)))\n",
    "a"
   ]
  },
  {
   "cell_type": "code",
   "execution_count": 268,
   "id": "df232060-95f2-4440-bfb7-282774d04a24",
   "metadata": {},
   "outputs": [
    {
     "data": {
      "text/plain": [
       "array([[3., 7.],\n",
       "       [3., 4.]])"
      ]
     },
     "execution_count": 268,
     "metadata": {},
     "output_type": "execute_result"
    }
   ],
   "source": [
    "b = np.floor(10 * rg.random((2, 2)))\n",
    "b"
   ]
  },
  {
   "cell_type": "code",
   "execution_count": 269,
   "id": "4e544aa8-f0db-40a6-84d0-ff192acca51a",
   "metadata": {},
   "outputs": [
    {
     "data": {
      "text/plain": [
       "array([[5., 0.],\n",
       "       [7., 5.],\n",
       "       [3., 7.],\n",
       "       [3., 4.]])"
      ]
     },
     "execution_count": 269,
     "metadata": {},
     "output_type": "execute_result"
    }
   ],
   "source": [
    "np.vstack((a, b))"
   ]
  },
  {
   "cell_type": "code",
   "execution_count": 270,
   "id": "d0f58f57-293d-4e34-a45b-b779c1a4afa3",
   "metadata": {},
   "outputs": [
    {
     "data": {
      "text/plain": [
       "array([[5., 0., 3., 7.],\n",
       "       [7., 5., 3., 4.]])"
      ]
     },
     "execution_count": 270,
     "metadata": {},
     "output_type": "execute_result"
    }
   ],
   "source": [
    "np.hstack((a, b))"
   ]
  },
  {
   "cell_type": "code",
   "execution_count": 271,
   "id": "82be5c84-aa03-42a1-995e-0e3c561898c5",
   "metadata": {},
   "outputs": [
    {
     "data": {
      "text/plain": [
       "array([[5., 0., 3., 7.],\n",
       "       [7., 5., 3., 4.]])"
      ]
     },
     "execution_count": 271,
     "metadata": {},
     "output_type": "execute_result"
    }
   ],
   "source": [
    "# 2d arrays converts like hstack\n",
    "np.column_stack((a, b))"
   ]
  },
  {
   "cell_type": "code",
   "execution_count": 272,
   "id": "7576d772-c653-45f1-bb63-f8abe8f91698",
   "metadata": {},
   "outputs": [],
   "source": [
    "a = np.array([4., 2.])\n",
    "b = np.array([3., 8.])"
   ]
  },
  {
   "cell_type": "code",
   "execution_count": 277,
   "id": "21928d74-dfe8-48f0-ad72-1bb9a14813da",
   "metadata": {},
   "outputs": [
    {
     "data": {
      "text/plain": [
       "array([[4., 3.],\n",
       "       [2., 8.]])"
      ]
     },
     "execution_count": 277,
     "metadata": {},
     "output_type": "execute_result"
    }
   ],
   "source": [
    "# returns a 2D array\n",
    "np.column_stack((a, b))  "
   ]
  },
  {
   "cell_type": "code",
   "execution_count": 278,
   "id": "e0ca8007-23b8-4c48-966d-e6d90144d831",
   "metadata": {},
   "outputs": [
    {
     "data": {
      "text/plain": [
       "array([4., 2., 3., 8.])"
      ]
     },
     "execution_count": 278,
     "metadata": {},
     "output_type": "execute_result"
    }
   ],
   "source": [
    "# the result is different\n",
    "np.hstack((a, b))        "
   ]
  },
  {
   "cell_type": "code",
   "execution_count": 280,
   "id": "ab05ae34-473e-4abe-8e4c-b35e74e7d423",
   "metadata": {},
   "outputs": [
    {
     "data": {
      "text/plain": [
       "array([[4.],\n",
       "       [2.]])"
      ]
     },
     "execution_count": 280,
     "metadata": {},
     "output_type": "execute_result"
    }
   ],
   "source": [
    "# view `a` as a 2D column vector\n",
    "a[:, np.newaxis]  "
   ]
  },
  {
   "cell_type": "code",
   "execution_count": 283,
   "id": "997c512c-1e78-4282-9327-f879ece5c804",
   "metadata": {},
   "outputs": [
    {
     "data": {
      "text/plain": [
       "array([[4., 3.],\n",
       "       [2., 8.]])"
      ]
     },
     "execution_count": 283,
     "metadata": {},
     "output_type": "execute_result"
    }
   ],
   "source": [
    "np.column_stack((a[:, np.newaxis], b[:, np.newaxis]))"
   ]
  },
  {
   "cell_type": "code",
   "execution_count": 286,
   "id": "b54fbfec-db39-4c5d-85d2-2d2219f0ae42",
   "metadata": {},
   "outputs": [
    {
     "data": {
      "text/plain": [
       "array([[4., 3.],\n",
       "       [2., 8.]])"
      ]
     },
     "execution_count": 286,
     "metadata": {},
     "output_type": "execute_result"
    }
   ],
   "source": [
    "# the result is the same\n",
    "np.hstack((a[:, np.newaxis], b[:, np.newaxis]))"
   ]
  },
  {
   "cell_type": "markdown",
   "id": "dea1e643-f1b3-457c-ab53-ebde3385d140",
   "metadata": {},
   "source": [
    "On the other hand, the function `row_stack` is equivalent to `vstack` for any input arrays. In fact, `row_stack` **is an alias for** `vstack`:"
   ]
  },
  {
   "cell_type": "code",
   "execution_count": 296,
   "id": "21683419-234c-4ac7-9204-bf724f4dd726",
   "metadata": {},
   "outputs": [
    {
     "data": {
      "text/plain": [
       "False"
      ]
     },
     "execution_count": 296,
     "metadata": {},
     "output_type": "execute_result"
    }
   ],
   "source": [
    "np.column_stack is np.hstack\n"
   ]
  },
  {
   "cell_type": "code",
   "execution_count": 297,
   "id": "d8bacf6b-a95f-4b99-9c95-bce38b7cb130",
   "metadata": {},
   "outputs": [
    {
     "data": {
      "text/plain": [
       "True"
      ]
     },
     "execution_count": 297,
     "metadata": {},
     "output_type": "execute_result"
    }
   ],
   "source": [
    "np.row_stack is np.vstack"
   ]
  },
  {
   "cell_type": "markdown",
   "id": "a055d722-08b7-4a76-86c0-aa55af47b5f7",
   "metadata": {},
   "source": [
    "In general, for arrays with more than two dimensions, `hstack` stacks along their second axes, `vstack` stacks along their first axes, and `concatenate` allows for an optional arguments giving the number of the axis along which the concatenation should happen."
   ]
  },
  {
   "cell_type": "markdown",
   "id": "dd11950f-250c-4733-890d-d6397287bc5a",
   "metadata": {},
   "source": [
    "Note\n",
    "\n",
    "In complex cases, `r_` and `c_` are useful for creating arrays by stacking numbers along one axis. They allow the use of range literals :."
   ]
  },
  {
   "cell_type": "code",
   "execution_count": 310,
   "id": "5b75f3e9-df22-4407-aef7-871be23d8cbf",
   "metadata": {},
   "outputs": [
    {
     "data": {
      "text/plain": [
       "array([1, 2, 3, 0, 4])"
      ]
     },
     "execution_count": 310,
     "metadata": {},
     "output_type": "execute_result"
    }
   ],
   "source": [
    "np.r_[1:4, 0, 4]"
   ]
  },
  {
   "cell_type": "code",
   "execution_count": 311,
   "id": "421b3ee4-a794-497b-a84c-f738c263d180",
   "metadata": {},
   "outputs": [
    {
     "data": {
      "text/plain": [
       "array([[1, 4],\n",
       "       [2, 5],\n",
       "       [3, 6]])"
      ]
     },
     "execution_count": 311,
     "metadata": {},
     "output_type": "execute_result"
    }
   ],
   "source": [
    "np.c_[np.array([1,2,3]), np.array([4,5,6])]\n"
   ]
  },
  {
   "cell_type": "markdown",
   "id": "dbfc7f6b-a210-41e1-91d6-e4b2ed4d80e3",
   "metadata": {},
   "source": [
    "### Splitting one array into several smaller ones\n",
    "\n",
    "> `numpy.hsplit(ary, indices_or_sections)\n",
    "\n",
    "Split an array into multiple sub-arrays horizontally (column-wise).\n",
    "\n",
    "> `numpy.vsplit(ary, indices_or_sections)`\n",
    "\n",
    "plit an array into multiple sub-arrays vertically (row-wise).\n",
    "\n",
    "> `numpy.array_split(ary, indices_or_sections, axis=0)`\n",
    "\n",
    "Split an array into multiple sub-arrays.\n",
    "\n",
    "**axis : int**, optional\n",
    "\n",
    "The axis along which to split, default is\n",
    "\n",
    "(0 - row-wise)\n",
    "\n",
    "(1 - column-wise).\n",
    "\n"
   ]
  },
  {
   "cell_type": "markdown",
   "id": "be57010d-a6d7-4c12-a510-7ddb53b0e6d6",
   "metadata": {},
   "source": [
    "Using `hsplit`, you can split an array along its horizontal axis, either by specifying the number of equally shaped arrays to return, or by specifying the columns after which the division should occur:\n"
   ]
  },
  {
   "cell_type": "code",
   "execution_count": 313,
   "id": "2fdca976-21f4-48ce-b8c4-0ed862d1c31d",
   "metadata": {},
   "outputs": [
    {
     "data": {
      "text/plain": [
       "array([[1., 4., 2., 2., 7., 2., 4., 9., 9., 7., 5., 2.],\n",
       "       [1., 9., 5., 1., 6., 7., 6., 9., 0., 5., 4., 0.]])"
      ]
     },
     "execution_count": 313,
     "metadata": {},
     "output_type": "execute_result"
    }
   ],
   "source": [
    "a = np.floor(10 * rg.random((2, 12)))\n",
    "a"
   ]
  },
  {
   "cell_type": "code",
   "execution_count": 316,
   "id": "b0f06f24-f203-4bf9-9eef-e4a9273576fb",
   "metadata": {},
   "outputs": [
    {
     "data": {
      "text/plain": [
       "[array([[1., 4., 2., 2.],\n",
       "        [1., 9., 5., 1.]]),\n",
       " array([[7., 2., 4., 9.],\n",
       "        [6., 7., 6., 9.]]),\n",
       " array([[9., 7., 5., 2.],\n",
       "        [0., 5., 4., 0.]])]"
      ]
     },
     "execution_count": 316,
     "metadata": {},
     "output_type": "execute_result"
    }
   ],
   "source": [
    "# Split `a` into 3\n",
    "b = np.hsplit(a, 3)\n",
    "b"
   ]
  },
  {
   "cell_type": "code",
   "execution_count": 318,
   "id": "b194f80a-24b9-4bad-950b-a1c2cacad6fb",
   "metadata": {},
   "outputs": [
    {
     "data": {
      "text/plain": [
       "list"
      ]
     },
     "execution_count": 318,
     "metadata": {},
     "output_type": "execute_result"
    }
   ],
   "source": [
    "type(b)"
   ]
  },
  {
   "cell_type": "code",
   "execution_count": 319,
   "id": "64bb85db-fbac-46a0-a759-09c235e64e84",
   "metadata": {},
   "outputs": [
    {
     "data": {
      "text/plain": [
       "(2, 4)"
      ]
     },
     "execution_count": 319,
     "metadata": {},
     "output_type": "execute_result"
    }
   ],
   "source": [
    "b[1].shape"
   ]
  },
  {
   "cell_type": "code",
   "execution_count": 320,
   "id": "a926b28a-cf4a-4264-9a18-249fe4e451a5",
   "metadata": {},
   "outputs": [
    {
     "data": {
      "text/plain": [
       "2"
      ]
     },
     "execution_count": 320,
     "metadata": {},
     "output_type": "execute_result"
    }
   ],
   "source": [
    "b[1].ndim"
   ]
  },
  {
   "cell_type": "code",
   "execution_count": 330,
   "id": "37d23058-147d-4f83-ba73-d11e30e370d1",
   "metadata": {},
   "outputs": [
    {
     "data": {
      "text/plain": [
       "[array([[1., 4., 2.],\n",
       "        [1., 9., 5.]]),\n",
       " array([[2.],\n",
       "        [1.]]),\n",
       " array([[7., 2., 4., 9., 9., 7., 5., 2.],\n",
       "        [6., 7., 6., 9., 0., 5., 4., 0.]])]"
      ]
     },
     "execution_count": 330,
     "metadata": {},
     "output_type": "execute_result"
    }
   ],
   "source": [
    "# Split `a` after the third and the fourth column\n",
    "np.hsplit(a, (3, 4))"
   ]
  },
  {
   "cell_type": "code",
   "execution_count": 334,
   "id": "76c9f5b4-9ea0-42a8-b4a9-4ee2b5cf4648",
   "metadata": {},
   "outputs": [
    {
     "data": {
      "text/plain": [
       "[array([[1., 4., 2., 2., 7., 2., 4., 9., 9., 7., 5., 2.]]),\n",
       " array([[1., 9., 5., 1., 6., 7., 6., 9., 0., 5., 4., 0.]])]"
      ]
     },
     "execution_count": 334,
     "metadata": {},
     "output_type": "execute_result"
    }
   ],
   "source": [
    "np.vsplit(a, 2)"
   ]
  },
  {
   "cell_type": "code",
   "execution_count": 336,
   "id": "8b17cc88-6b91-4d2c-8ad7-354a16f38174",
   "metadata": {},
   "outputs": [
    {
     "data": {
      "text/plain": [
       "[array([[1., 4., 2., 2.],\n",
       "        [1., 9., 5., 1.]]),\n",
       " array([[7., 2., 4., 9.],\n",
       "        [6., 7., 6., 9.]]),\n",
       " array([[9., 7., 5., 2.],\n",
       "        [0., 5., 4., 0.]])]"
      ]
     },
     "execution_count": 336,
     "metadata": {},
     "output_type": "execute_result"
    }
   ],
   "source": [
    "np.array_split(a, 3, axis=1) "
   ]
  },
  {
   "cell_type": "markdown",
   "id": "67a97977-ae1e-4524-95ce-b6ab23a3f4af",
   "metadata": {},
   "source": [
    "### Copies and Views\n",
    "\n",
    "When operating and manipulating arrays, their data is sometimes copied into a new array and sometimes not. This is often a source of confusion for beginners. There are three cases:"
   ]
  },
  {
   "cell_type": "markdown",
   "id": "b38ea664-a53f-4ccd-a0b8-1c9907df3ce1",
   "metadata": {},
   "source": [
    "#### No Copy at All"
   ]
  },
  {
   "cell_type": "markdown",
   "id": "f5074d43-bb59-4daf-aa79-69586f982847",
   "metadata": {},
   "source": [
    "Simple assignments make no copy of objects or their data.\n",
    "\n"
   ]
  },
  {
   "cell_type": "code",
   "execution_count": 59,
   "id": "d9df724d-f244-4c79-b41f-a2e5064657f5",
   "metadata": {},
   "outputs": [
    {
     "data": {
      "text/plain": [
       "array([[ 0,  1,  2,  3],\n",
       "       [ 4,  5,  6,  7],\n",
       "       [ 8,  9, 10, 11]])"
      ]
     },
     "execution_count": 59,
     "metadata": {},
     "output_type": "execute_result"
    }
   ],
   "source": [
    "a = np.arange(12).reshape(3,4)\n",
    "a"
   ]
  },
  {
   "cell_type": "code",
   "execution_count": 60,
   "id": "3c4aaf89-274a-45d2-9ec4-ebcaa1f25222",
   "metadata": {},
   "outputs": [
    {
     "data": {
      "text/plain": [
       "True"
      ]
     },
     "execution_count": 60,
     "metadata": {},
     "output_type": "execute_result"
    }
   ],
   "source": [
    "# no new object is created\n",
    "# a and b are two names for the same ndarray object\n",
    "b = a\n",
    "b is a"
   ]
  },
  {
   "cell_type": "code",
   "execution_count": 61,
   "id": "65d512b3-d530-4cf9-9a97-434b6aa38b2e",
   "metadata": {},
   "outputs": [
    {
     "name": "stdout",
     "output_type": "stream",
     "text": [
      "140329679561808\n",
      "140329679561808\n"
     ]
    }
   ],
   "source": [
    "# Python passes mutable objects as references, so function calls make no copy.\n",
    "\n",
    "def f(x):\n",
    "    print(id(x))\n",
    "    \n",
    "print(id(a))\n",
    "f(a)"
   ]
  },
  {
   "cell_type": "markdown",
   "id": "d03f3361-39c8-48c2-96fa-e8b6262fc8c0",
   "metadata": {},
   "source": [
    "#### View or Shallow Copy\n",
    "\n",
    "Different array objects can share the same data. The `view` method creates a new array object that looks at the same data."
   ]
  },
  {
   "cell_type": "code",
   "execution_count": 62,
   "id": "da80e368-7457-4a95-b958-880e3033e3e9",
   "metadata": {},
   "outputs": [],
   "source": [
    "c = a.view()"
   ]
  },
  {
   "cell_type": "code",
   "execution_count": 63,
   "id": "ea19689f-960a-44d6-a128-8ed18009c32d",
   "metadata": {},
   "outputs": [
    {
     "data": {
      "text/plain": [
       "False"
      ]
     },
     "execution_count": 63,
     "metadata": {},
     "output_type": "execute_result"
    }
   ],
   "source": [
    "c is a"
   ]
  },
  {
   "cell_type": "code",
   "execution_count": 64,
   "id": "1546a8f6-b81d-4283-b8d9-9311808dd465",
   "metadata": {},
   "outputs": [
    {
     "data": {
      "text/plain": [
       "False"
      ]
     },
     "execution_count": 64,
     "metadata": {},
     "output_type": "execute_result"
    }
   ],
   "source": [
    "# c is a view of the data owned by a\n",
    "c.base is a            "
   ]
  },
  {
   "cell_type": "code",
   "execution_count": 65,
   "id": "6e8a81a8-dcc2-44d8-b3e7-9054c81a4980",
   "metadata": {},
   "outputs": [
    {
     "data": {
      "text/plain": [
       "False"
      ]
     },
     "execution_count": 65,
     "metadata": {},
     "output_type": "execute_result"
    }
   ],
   "source": [
    "c.flags.owndata"
   ]
  },
  {
   "cell_type": "code",
   "execution_count": 66,
   "id": "c93107e0-4b50-40dc-830e-b577b4e9722f",
   "metadata": {},
   "outputs": [
    {
     "data": {
      "text/plain": [
       "array([[ 0,  1,  2,  3,  4,  5],\n",
       "       [ 6,  7,  8,  9, 10, 11]])"
      ]
     },
     "execution_count": 66,
     "metadata": {},
     "output_type": "execute_result"
    }
   ],
   "source": [
    "# a's shape doesn't change\n",
    "c = c.reshape((2, 6))   \n",
    "c"
   ]
  },
  {
   "cell_type": "code",
   "execution_count": 67,
   "id": "31d37b92-4843-4d82-a373-3ac711f8f080",
   "metadata": {},
   "outputs": [
    {
     "data": {
      "text/plain": [
       "(3, 4)"
      ]
     },
     "execution_count": 67,
     "metadata": {},
     "output_type": "execute_result"
    }
   ],
   "source": [
    "a.shape"
   ]
  },
  {
   "cell_type": "code",
   "execution_count": 68,
   "id": "e84f9eba-bb15-41fe-ae6a-8e2ee1667250",
   "metadata": {},
   "outputs": [
    {
     "data": {
      "text/plain": [
       "array([[   0,    1,    2,    3],\n",
       "       [1234,    5,    6,    7],\n",
       "       [   8,    9,   10,   11]])"
      ]
     },
     "execution_count": 68,
     "metadata": {},
     "output_type": "execute_result"
    }
   ],
   "source": [
    "# a's data changes\n",
    "c[0, 4] = 1234    \n",
    "a"
   ]
  },
  {
   "cell_type": "code",
   "execution_count": 69,
   "id": "1d88ff92-cf6f-49fe-bab7-2e35729b4cb3",
   "metadata": {},
   "outputs": [
    {
     "data": {
      "text/plain": [
       "array([[ 1,  2],\n",
       "       [ 5,  6],\n",
       "       [ 9, 10]])"
      ]
     },
     "execution_count": 69,
     "metadata": {},
     "output_type": "execute_result"
    }
   ],
   "source": [
    "# Slicing an array returns a view of it:\n",
    "\n",
    "s = a[:, 1:3]\n",
    "s"
   ]
  },
  {
   "cell_type": "code",
   "execution_count": 70,
   "id": "c335e0b5-fb82-4209-8529-780329e40f32",
   "metadata": {},
   "outputs": [],
   "source": [
    "# s[:] is a view of s. Note the difference between s = 10 and s[:] = 10\n",
    "s[:] = 10"
   ]
  },
  {
   "cell_type": "code",
   "execution_count": 71,
   "id": "3e38d7bc-e305-43ee-a7fd-68a0cb05061a",
   "metadata": {},
   "outputs": [
    {
     "data": {
      "text/plain": [
       "array([[   0,   10,   10,    3],\n",
       "       [1234,   10,   10,    7],\n",
       "       [   8,   10,   10,   11]])"
      ]
     },
     "execution_count": 71,
     "metadata": {},
     "output_type": "execute_result"
    }
   ],
   "source": [
    "a"
   ]
  },
  {
   "cell_type": "markdown",
   "id": "95f22906-d241-4922-868c-01df9b6600b5",
   "metadata": {},
   "source": [
    "#### Deep Copy \n",
    "\n",
    "The `copy` method makes a complete copy of the array and its data.\n",
    "\n"
   ]
  },
  {
   "cell_type": "code",
   "execution_count": 72,
   "id": "31fedb15-f81a-4243-a0ff-9ffb16f60be1",
   "metadata": {},
   "outputs": [],
   "source": [
    "# a new array object with new data is created\n",
    "d = a.copy()  "
   ]
  },
  {
   "cell_type": "code",
   "execution_count": 73,
   "id": "f8b7a243-a128-4dfc-ac25-564aeecbf3a3",
   "metadata": {},
   "outputs": [
    {
     "data": {
      "text/plain": [
       "False"
      ]
     },
     "execution_count": 73,
     "metadata": {},
     "output_type": "execute_result"
    }
   ],
   "source": [
    "d is a"
   ]
  },
  {
   "cell_type": "code",
   "execution_count": 74,
   "id": "0aeac368-23de-4fbf-a94b-f0f767ad0d91",
   "metadata": {},
   "outputs": [
    {
     "data": {
      "text/plain": [
       "False"
      ]
     },
     "execution_count": 74,
     "metadata": {},
     "output_type": "execute_result"
    }
   ],
   "source": [
    "d.base is a"
   ]
  },
  {
   "cell_type": "code",
   "execution_count": 75,
   "id": "21a707c1-73d8-4e30-ab32-9afc22200133",
   "metadata": {},
   "outputs": [
    {
     "data": {
      "text/plain": [
       "array([[9999,   10,   10,    3],\n",
       "       [1234,   10,   10,    7],\n",
       "       [   8,   10,   10,   11]])"
      ]
     },
     "execution_count": 75,
     "metadata": {},
     "output_type": "execute_result"
    }
   ],
   "source": [
    "d[0, 0] = 9999\n",
    "d"
   ]
  },
  {
   "cell_type": "code",
   "execution_count": 76,
   "id": "c83c1455-bc6b-4ef8-89c8-7b0ad7897ccd",
   "metadata": {},
   "outputs": [
    {
     "data": {
      "text/plain": [
       "array([[   0,   10,   10,    3],\n",
       "       [1234,   10,   10,    7],\n",
       "       [   8,   10,   10,   11]])"
      ]
     },
     "execution_count": 76,
     "metadata": {},
     "output_type": "execute_result"
    }
   ],
   "source": [
    "a"
   ]
  },
  {
   "cell_type": "markdown",
   "id": "ca2dbb33-19a8-4343-a545-51940a494244",
   "metadata": {},
   "source": [
    "Sometimes `copy` should be called after slicing if the original array is not required anymore. For example, suppose `a` is a huge intermediate result and the final result `b` only contains a small fraction of `a`, a deep copy should be made when constructing `b` with slicing:\n"
   ]
  },
  {
   "cell_type": "code",
   "execution_count": 78,
   "id": "4b1a8832-983c-42fd-b8b8-693f3bb5a80a",
   "metadata": {},
   "outputs": [
    {
     "data": {
      "text/plain": [
       "(100000000,)"
      ]
     },
     "execution_count": 78,
     "metadata": {},
     "output_type": "execute_result"
    }
   ],
   "source": [
    "a = np.arange(int(1e8))\n",
    "a.shape"
   ]
  },
  {
   "cell_type": "code",
   "execution_count": 80,
   "id": "24ba5f70-6533-42f9-982a-e7bdae887794",
   "metadata": {},
   "outputs": [
    {
     "data": {
      "text/plain": [
       "(100,)"
      ]
     },
     "execution_count": 80,
     "metadata": {},
     "output_type": "execute_result"
    }
   ],
   "source": [
    "b = a[:100].copy()\n",
    "b.shape"
   ]
  },
  {
   "cell_type": "code",
   "execution_count": 81,
   "id": "6e593b0f-84d8-4e6d-a6dd-15ad45be2002",
   "metadata": {},
   "outputs": [],
   "source": [
    "del a  # the memory of ``a`` can be released."
   ]
  },
  {
   "cell_type": "markdown",
   "id": "8b001476-4a54-48c5-9086-181a83b3f2c0",
   "metadata": {},
   "source": [
    "If b = a[:100] is used instead, a is referenced by b and **will persist in memory even if del a is executed**."
   ]
  }
 ],
 "metadata": {
  "kernelspec": {
   "display_name": "ds-env",
   "language": "python",
   "name": "ds-env"
  },
  "language_info": {
   "codemirror_mode": {
    "name": "ipython",
    "version": 3
   },
   "file_extension": ".py",
   "mimetype": "text/x-python",
   "name": "python",
   "nbconvert_exporter": "python",
   "pygments_lexer": "ipython3",
   "version": "3.9.6"
  }
 },
 "nbformat": 4,
 "nbformat_minor": 5
}
