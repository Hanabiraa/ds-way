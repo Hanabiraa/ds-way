{
 "cells": [
  {
   "cell_type": "markdown",
   "id": "7a48cf2d-a468-4fcc-9390-4c778df18eb2",
   "metadata": {},
   "source": [
    "# Numpy beginner tutorial\n",
    "## This tutorial in particular repeats [numpy quickstart](https://numpy.org/devdocs/user/quickstart.html) a lot from the official site of NumPy."
   ]
  },
  {
   "cell_type": "code",
   "execution_count": 1,
   "id": "9aef3a4e-577e-4c1b-a919-7b25d8f494d3",
   "metadata": {},
   "outputs": [],
   "source": [
    "# imports\n",
    "import numpy as np\n",
    "import matplotlib.pyplot as plt\n",
    "%matplotlib inline"
   ]
  },
  {
   "cell_type": "markdown",
   "id": "66ad2954-eafd-433b-8748-a217607f2653",
   "metadata": {},
   "source": [
    "### Basics\n",
    "\n",
    "NumPy’s main object is the homogeneous multidimensional array. It is a table of elements (usually numbers), all of the same type, indexed by a tuple of non-negative integers. In NumPy dimensions are called `axes`."
   ]
  },
  {
   "cell_type": "code",
   "execution_count": 2,
   "id": "2a4bf110-f906-4469-aaab-dd6b803cea21",
   "metadata": {},
   "outputs": [
    {
     "data": {
      "text/plain": [
       "[[1.0, 0.0, 0.0], [0.0, 1.0, 0.0]]"
      ]
     },
     "execution_count": 2,
     "metadata": {},
     "output_type": "execute_result"
    }
   ],
   "source": [
    "# for example: the array has 2 axes. The first axis has a length of 2, the second axis has a length of 3.\n",
    "[[1., 0., 0.],\n",
    " [0., 1., 0.]]"
   ]
  },
  {
   "cell_type": "markdown",
   "id": "902b638b-67d2-4776-92fe-a1d22fc7aeca",
   "metadata": {},
   "source": [
    "NumPy’s array class is called `ndarray`. It is also known by the alias array. Note that `numpy.array` **is not** the same as the Standard Python Library class `array.array`"
   ]
  },
  {
   "cell_type": "markdown",
   "id": "fc89f497-51e5-4252-b13d-91e3a7272c00",
   "metadata": {},
   "source": [
    "The more important attributes of an ndarray object are:\n",
    "\n",
    "***\n",
    "\n",
    "> `ndarray.ndim`\n",
    "\n",
    "the number of axes (dimensions) of the array.\n",
    "\n",
    "> `ndarray.shape`\n",
    "\n",
    "the dimensions of the array. This is a tuple of integers indicating the size of the array in each dimension. For a matrix with n rows and m columns, `shape` will be `(n,m)`. The length of the `shape` tuple is therefore the number of axes, `ndim`.\n",
    "\n",
    "> `ndarray.size`\n",
    "\n",
    "the total number of elements of the array. This is equal to the product of the elements of `shape`.\n",
    "\n",
    "> `ndarray.dtype`\n",
    "\n",
    "an object describing the type of the elements in the array. One can create or specify dtype’s using standard Python types. **Additionally** NumPy provides types of its own. **numpy.int32, numpy.int16, and numpy.float64 are some examples**.\n",
    "\n",
    "> `ndarray.itemsize`\n",
    "\n",
    "the size in bytes of each element of the array. For example, an array of elements of type `float64` has `itemsize` 8 (=64/8), while one of type `complex32` has `itemsize 4` (=32/8). It is equivalent to `ndarray.dtype.itemsize`.\n",
    "\n",
    "> `ndarray.data`\n",
    "\n",
    "the buffer containing the actual elements of the array. Normally, we won’t need to use this attribute because we will access the elements in an array using indexing facilities.\n"
   ]
  },
  {
   "cell_type": "code",
   "execution_count": 3,
   "id": "7bbc1a99-d124-4f61-8535-d5e9f5474b30",
   "metadata": {},
   "outputs": [
    {
     "data": {
      "text/plain": [
       "array([[ 0,  1,  2,  3,  4],\n",
       "       [ 5,  6,  7,  8,  9],\n",
       "       [10, 11, 12, 13, 14]])"
      ]
     },
     "execution_count": 3,
     "metadata": {},
     "output_type": "execute_result"
    }
   ],
   "source": [
    "lst = np.arange(15).reshape(3, 5)\n",
    "lst"
   ]
  },
  {
   "cell_type": "code",
   "execution_count": 4,
   "id": "e06a33d0-2d39-4dbb-a92c-e48381f55f81",
   "metadata": {},
   "outputs": [
    {
     "data": {
      "text/plain": [
       "(3, 5)"
      ]
     },
     "execution_count": 4,
     "metadata": {},
     "output_type": "execute_result"
    }
   ],
   "source": [
    "lst.shape"
   ]
  },
  {
   "cell_type": "code",
   "execution_count": 5,
   "id": "d3027cdd-23ac-4f01-a3f4-60b5dff66d77",
   "metadata": {},
   "outputs": [
    {
     "data": {
      "text/plain": [
       "15"
      ]
     },
     "execution_count": 5,
     "metadata": {},
     "output_type": "execute_result"
    }
   ],
   "source": [
    "lst.size"
   ]
  },
  {
   "cell_type": "code",
   "execution_count": 6,
   "id": "f95479d7-9002-4d5d-b293-65779576f576",
   "metadata": {},
   "outputs": [
    {
     "data": {
      "text/plain": [
       "dtype('int64')"
      ]
     },
     "execution_count": 6,
     "metadata": {},
     "output_type": "execute_result"
    }
   ],
   "source": [
    "lst.dtype"
   ]
  },
  {
   "cell_type": "code",
   "execution_count": 7,
   "id": "d8c9884e-4b34-4a8f-a190-870c4e00154f",
   "metadata": {},
   "outputs": [
    {
     "data": {
      "text/plain": [
       "8"
      ]
     },
     "execution_count": 7,
     "metadata": {},
     "output_type": "execute_result"
    }
   ],
   "source": [
    "lst.itemsize"
   ]
  },
  {
   "cell_type": "code",
   "execution_count": 8,
   "id": "f08ec918-86fb-40d5-893d-3fd9ca7d6de0",
   "metadata": {},
   "outputs": [
    {
     "data": {
      "text/plain": [
       "<memory at 0x7fb932c29790>"
      ]
     },
     "execution_count": 8,
     "metadata": {},
     "output_type": "execute_result"
    }
   ],
   "source": [
    "lst.data"
   ]
  },
  {
   "cell_type": "code",
   "execution_count": 9,
   "id": "b0d374fe-53b1-4e97-964d-30cabd7540f5",
   "metadata": {},
   "outputs": [
    {
     "data": {
      "text/plain": [
       "numpy.ndarray"
      ]
     },
     "execution_count": 9,
     "metadata": {},
     "output_type": "execute_result"
    }
   ],
   "source": [
    "type(lst)"
   ]
  },
  {
   "cell_type": "code",
   "execution_count": 10,
   "id": "ec38f112-062b-485b-b502-b5e69d515ba9",
   "metadata": {},
   "outputs": [
    {
     "data": {
      "text/plain": [
       "array([1, 2, 3, 4])"
      ]
     },
     "execution_count": 10,
     "metadata": {},
     "output_type": "execute_result"
    }
   ],
   "source": [
    "# create numpy array\n",
    "basic_lst = [1, 2, 3, 4]\n",
    "own_lst = np.array(basic_lst)\n",
    "\n",
    "own_lst"
   ]
  },
  {
   "cell_type": "code",
   "execution_count": 11,
   "id": "761a1ace-5704-4b09-97fc-28f548af13c4",
   "metadata": {},
   "outputs": [
    {
     "data": {
      "text/plain": [
       "numpy.ndarray"
      ]
     },
     "execution_count": 11,
     "metadata": {},
     "output_type": "execute_result"
    }
   ],
   "source": [
    "type(own_lst)"
   ]
  },
  {
   "cell_type": "markdown",
   "id": "efda7af9-db91-47d1-992f-29612e41e9b3",
   "metadata": {},
   "source": [
    "### Array Creation"
   ]
  },
  {
   "cell_type": "code",
   "execution_count": 12,
   "id": "859d98fb-87d1-4139-8f40-823e3378a8f9",
   "metadata": {},
   "outputs": [
    {
     "data": {
      "text/plain": [
       "array([1, 2, 3])"
      ]
     },
     "execution_count": 12,
     "metadata": {},
     "output_type": "execute_result"
    }
   ],
   "source": [
    "# create array using np.array function\n",
    "int_lst = np.array([1, 2, 3])\n",
    "int_lst"
   ]
  },
  {
   "cell_type": "code",
   "execution_count": 13,
   "id": "8f50e653-4372-4714-a08e-b4f0f7ba0548",
   "metadata": {},
   "outputs": [
    {
     "data": {
      "text/plain": [
       "dtype('int64')"
      ]
     },
     "execution_count": 13,
     "metadata": {},
     "output_type": "execute_result"
    }
   ],
   "source": [
    "int_lst.dtype"
   ]
  },
  {
   "cell_type": "code",
   "execution_count": 14,
   "id": "9353ea42-bfd0-4149-b9ce-0512466f4864",
   "metadata": {},
   "outputs": [
    {
     "data": {
      "text/plain": [
       "array([1., 2., 3.])"
      ]
     },
     "execution_count": 14,
     "metadata": {},
     "output_type": "execute_result"
    }
   ],
   "source": [
    "float_lst = np.array([1., 2., 3.])\n",
    "float_lst"
   ]
  },
  {
   "cell_type": "code",
   "execution_count": 15,
   "id": "8284bced-7d72-4828-b72a-5dc5df35d136",
   "metadata": {},
   "outputs": [
    {
     "data": {
      "text/plain": [
       "dtype('float64')"
      ]
     },
     "execution_count": 15,
     "metadata": {},
     "output_type": "execute_result"
    }
   ],
   "source": [
    "float_lst.dtype"
   ]
  },
  {
   "cell_type": "markdown",
   "id": "e4b62d98-002d-4937-b093-9a752a40e22d",
   "metadata": {},
   "source": [
    "A frequent error consists in calling `array` with multiple arguments, rather than providing a single sequence as an argument."
   ]
  },
  {
   "cell_type": "code",
   "execution_count": 16,
   "id": "db819ea5-d690-4701-9745-f213d6e4e821",
   "metadata": {},
   "outputs": [
    {
     "ename": "TypeError",
     "evalue": "array() takes from 1 to 2 positional arguments but 4 were given",
     "output_type": "error",
     "traceback": [
      "\u001b[0;31m---------------------------------------------------------------------------\u001b[0m",
      "\u001b[0;31mTypeError\u001b[0m                                 Traceback (most recent call last)",
      "\u001b[0;32m/tmp/ipykernel_7156/332102503.py\u001b[0m in \u001b[0;36m<module>\u001b[0;34m\u001b[0m\n\u001b[1;32m      1\u001b[0m \u001b[0;31m# WRONG\u001b[0m\u001b[0;34m\u001b[0m\u001b[0;34m\u001b[0m\u001b[0;34m\u001b[0m\u001b[0m\n\u001b[0;32m----> 2\u001b[0;31m \u001b[0mnp\u001b[0m\u001b[0;34m.\u001b[0m\u001b[0marray\u001b[0m\u001b[0;34m(\u001b[0m\u001b[0;36m1\u001b[0m\u001b[0;34m,\u001b[0m \u001b[0;36m2\u001b[0m\u001b[0;34m,\u001b[0m \u001b[0;36m3\u001b[0m\u001b[0;34m,\u001b[0m \u001b[0;36m4\u001b[0m\u001b[0;34m)\u001b[0m\u001b[0;34m\u001b[0m\u001b[0;34m\u001b[0m\u001b[0m\n\u001b[0m",
      "\u001b[0;31mTypeError\u001b[0m: array() takes from 1 to 2 positional arguments but 4 were given"
     ]
    }
   ],
   "source": [
    "# WRONG\n",
    "np.array(1, 2, 3, 4)"
   ]
  },
  {
   "cell_type": "code",
   "execution_count": 17,
   "id": "9df5497b-9198-4844-b373-2e43e562f74f",
   "metadata": {},
   "outputs": [
    {
     "data": {
      "text/plain": [
       "array([1, 2, 3, 4, 5])"
      ]
     },
     "execution_count": 17,
     "metadata": {},
     "output_type": "execute_result"
    }
   ],
   "source": [
    "# RIGHT\n",
    "np.array([1, 2, 3, 4, 5])"
   ]
  },
  {
   "cell_type": "markdown",
   "id": "3bbf4a00-2ec9-406e-b6d7-6d4ed0611298",
   "metadata": {},
   "source": [
    "`array` transforms sequences of sequences into two-dimensional arrays, sequences of sequences of sequences into three-dimensional arrays, and so on."
   ]
  },
  {
   "cell_type": "code",
   "execution_count": 18,
   "id": "4a7eb788-ab42-4430-ad14-1326a2438ed2",
   "metadata": {},
   "outputs": [
    {
     "data": {
      "text/plain": [
       "array([[1, 2, 3],\n",
       "       [4, 5, 6]])"
      ]
     },
     "execution_count": 18,
     "metadata": {},
     "output_type": "execute_result"
    }
   ],
   "source": [
    "# like tuples\n",
    "lst_2dim = np.array([(1, 2, 3), (4, 5, 6)])\n",
    "lst_2dim"
   ]
  },
  {
   "cell_type": "code",
   "execution_count": 19,
   "id": "82fae115-284b-490a-b6ee-fb4a43ab2345",
   "metadata": {},
   "outputs": [
    {
     "data": {
      "text/plain": [
       "array([[1, 2, 3],\n",
       "       [4, 5, 6]])"
      ]
     },
     "execution_count": 19,
     "metadata": {},
     "output_type": "execute_result"
    }
   ],
   "source": [
    "# like list\n",
    "lst_2dim = np.array([[1, 2, 3], [4, 5, 6]])\n",
    "lst_2dim"
   ]
  },
  {
   "cell_type": "code",
   "execution_count": 20,
   "id": "ecbe3d03-a315-4cd0-b6da-31b8110ce321",
   "metadata": {},
   "outputs": [
    {
     "data": {
      "text/plain": [
       "2"
      ]
     },
     "execution_count": 20,
     "metadata": {},
     "output_type": "execute_result"
    }
   ],
   "source": [
    "lst_2dim.ndim"
   ]
  },
  {
   "cell_type": "code",
   "execution_count": 21,
   "id": "bf337c51-5b6a-4acb-aa4f-1ddb3510d4b8",
   "metadata": {},
   "outputs": [
    {
     "data": {
      "text/plain": [
       "array([1.+0.j, 2.+0.j, 3.+0.j, 4.+0.j])"
      ]
     },
     "execution_count": 21,
     "metadata": {},
     "output_type": "execute_result"
    }
   ],
   "source": [
    "#The type of the array can also be explicitly specified at creation time:\n",
    "complex_lst = np.array([1, 2, 3, 4], dtype=complex)\n",
    "complex_lst"
   ]
  },
  {
   "cell_type": "markdown",
   "id": "1d7a52fe-cf62-4883-98e0-2fddf215dc7e",
   "metadata": {},
   "source": [
    "Often, the elements of an array are originally unknown, but its size is known. Hence, NumPy offers several functions to create arrays with initial placeholder content. These minimize the necessity of growing arrays, an expensive operation.\n",
    "\n",
    "> `numpy.zeros(shape, dtype=float, order='C', *, like=None)`\n",
    "\n",
    "Return a new array of given shape and type, filled with zeros.\n",
    "\n",
    "> `numpy.ones(shape, dtype=None, order='C', *, like=None)`\n",
    "\n",
    "Return a new array of given shape and type, filled with ones.\n",
    "\n",
    "> `numpy.empty(shape, dtype=float, order='C', *, like=None)`\n",
    "\n",
    "Return a new array of given shape and type, without initializing entries **(content is random and depends on the state of the memory)**.\n",
    "\n",
    "\n",
    "_By default, the `dtype` of the created array is `float64`, but it can be specified via the key word argument dtype._"
   ]
  },
  {
   "cell_type": "code",
   "execution_count": 27,
   "id": "8cfa6044-6458-40b3-bf02-fa8de9dff41c",
   "metadata": {},
   "outputs": [
    {
     "data": {
      "text/plain": [
       "array([[0., 0., 0.],\n",
       "       [0., 0., 0.]])"
      ]
     },
     "execution_count": 27,
     "metadata": {},
     "output_type": "execute_result"
    }
   ],
   "source": [
    "np.zeros([2, 3])\n",
    "# or\n",
    "# np.zeros((2, 3))"
   ]
  },
  {
   "cell_type": "code",
   "execution_count": 28,
   "id": "4ecb4737-0978-47e6-b49c-1e8c842dc892",
   "metadata": {},
   "outputs": [
    {
     "data": {
      "text/plain": [
       "array([[1., 1., 1., 1.],\n",
       "       [1., 1., 1., 1.],\n",
       "       [1., 1., 1., 1.]])"
      ]
     },
     "execution_count": 28,
     "metadata": {},
     "output_type": "execute_result"
    }
   ],
   "source": [
    "np.ones([3, 4])\n",
    "# or\n",
    "# np.ones((3, 4))"
   ]
  },
  {
   "cell_type": "code",
   "execution_count": 33,
   "id": "fd208daf-dc42-40a1-8b14-20d991fd43e6",
   "metadata": {},
   "outputs": [
    {
     "data": {
      "text/plain": [
       "array([[4.65328105e-310, 0.00000000e+000, 6.93833211e-310,\n",
       "        6.93838078e-310],\n",
       "       [6.93838077e-310, 6.93838078e-310, 6.93835596e-310,\n",
       "        6.93838036e-310]])"
      ]
     },
     "execution_count": 33,
     "metadata": {},
     "output_type": "execute_result"
    }
   ],
   "source": [
    "np.empty([2, 4])"
   ]
  },
  {
   "cell_type": "code",
   "execution_count": 41,
   "id": "a2dea861-82df-42b6-ab00-b538db8a0ce1",
   "metadata": {},
   "outputs": [
    {
     "data": {
      "text/plain": [
       "array([[-1, -1, -1, -1],\n",
       "       [-1, -1, -1, -1]], dtype=int8)"
      ]
     },
     "execution_count": 41,
     "metadata": {},
     "output_type": "execute_result"
    }
   ],
   "source": [
    "# with numpy type\n",
    "np.empty((2, 4), dtype=np.int8)"
   ]
  },
  {
   "cell_type": "code",
   "execution_count": 53,
   "id": "036c3991-3022-4346-bfda-cf9c53156416",
   "metadata": {},
   "outputs": [
    {
     "data": {
      "text/plain": [
       "array([[     94183456056560,                   0,                   0,\n",
       "                          0,                   0],\n",
       "       [7076336329807914035, 3617566314198085933, 3257002151774073654,\n",
       "        3618752481072527665,        521388909921]])"
      ]
     },
     "execution_count": 53,
     "metadata": {},
     "output_type": "execute_result"
    }
   ],
   "source": [
    "# with python type\n",
    "np.empty([2, 5], dtype=int)"
   ]
  },
  {
   "cell_type": "markdown",
   "id": "97e909e9-5035-4787-926c-6070a19073ff",
   "metadata": {},
   "source": [
    "To create sequences of numbers, NumPy provides the `arange` function which is analogous to the Python built-in `range`, but returns an array.\n",
    "\n",
    "> `numpy.arange([start, ]stop, [step, ]dtype=None, *, like=None)`\n",
    "\n",
    "Return evenly spaced values within a given interval.\n",
    "\n",
    "Values are generated within the half-open interval **[start, stop)** (in other words, the interval including start but excluding stop). For integer arguments the function is equivalent to the Python built-in range function, but returns an ndarray rather than a list.\n",
    "\n",
    "**When using a non-integer step, such as 0.1, the results will often not be consistent. It is better to use** `numpy.linspace` **for these cases.**\n",
    "\n",
    "> `numpy.linspace(start, stop, num=50, endpoint=True, retstep=False, dtype=None, axis=0)`\n",
    "\n",
    "Return evenly spaced numbers over a specified interval.\n",
    "\n",
    "Returns num evenly spaced samples, calculated over the interval **[start, stop] when endpoint=True, or [start, stop) when endpoint=False**."
   ]
  },
  {
   "cell_type": "code",
   "execution_count": 56,
   "id": "462bba79-e3b4-48f0-b08b-f608f2928996",
   "metadata": {},
   "outputs": [
    {
     "data": {
      "text/plain": [
       "array([ 1,  2,  3,  4,  5,  6,  7,  8,  9, 10, 11, 12, 13, 14, 15])"
      ]
     },
     "execution_count": 56,
     "metadata": {},
     "output_type": "execute_result"
    }
   ],
   "source": [
    "np.arange(1, 16)"
   ]
  },
  {
   "cell_type": "code",
   "execution_count": 57,
   "id": "13847dff-eb24-4a40-98d2-0d046fc64343",
   "metadata": {},
   "outputs": [
    {
     "data": {
      "text/plain": [
       "array([ 1,  4,  7, 10, 13])"
      ]
     },
     "execution_count": 57,
     "metadata": {},
     "output_type": "execute_result"
    }
   ],
   "source": [
    "np.arange(1, 15, 3)"
   ]
  },
  {
   "cell_type": "code",
   "execution_count": 84,
   "id": "ec54a5c9-875f-4e16-8642-1c628df60815",
   "metadata": {},
   "outputs": [
    {
     "data": {
      "text/plain": [
       "array([1. , 1.1, 1.2, 1.3, 1.4, 1.5, 1.6, 1.7, 1.8, 1.9, 2. , 2.1, 2.2,\n",
       "       2.3, 2.4, 2.5, 2.6, 2.7, 2.8, 2.9, 3. , 3.1, 3.2, 3.3, 3.4, 3.5,\n",
       "       3.6, 3.7, 3.8, 3.9, 4. , 4.1, 4.2, 4.3, 4.4, 4.5, 4.6, 4.7, 4.8,\n",
       "       4.9])"
      ]
     },
     "execution_count": 84,
     "metadata": {},
     "output_type": "execute_result"
    }
   ],
   "source": [
    "# VERY BAD\n",
    "\n",
    "# step must be int, else - undefined behavior\n",
    "np.arange(1, 5, 0.1)"
   ]
  },
  {
   "cell_type": "code",
   "execution_count": 85,
   "id": "e9140576-0d18-49e6-a79e-94d6bff4c268",
   "metadata": {},
   "outputs": [
    {
     "data": {
      "text/plain": [
       "array([1. , 1.1, 1.2, 1.3, 1.4, 1.5, 1.6, 1.7, 1.8, 1.9, 2. , 2.1, 2.2,\n",
       "       2.3, 2.4, 2.5, 2.6, 2.7, 2.8, 2.9, 3. , 3.1, 3.2, 3.3, 3.4, 3.5,\n",
       "       3.6, 3.7, 3.8, 3.9, 4. , 4.1, 4.2, 4.3, 4.4, 4.5, 4.6, 4.7, 4.8,\n",
       "       4.9])"
      ]
     },
     "execution_count": 85,
     "metadata": {},
     "output_type": "execute_result"
    }
   ],
   "source": [
    "# GOOD\n",
    "# with endpoint=False\n",
    "# [start, stop) \n",
    "\n",
    "np.linspace(1, 5, 40, endpoint=False)"
   ]
  },
  {
   "cell_type": "code",
   "execution_count": 86,
   "id": "784fb442-8900-429b-befb-2cd572824508",
   "metadata": {},
   "outputs": [
    {
     "data": {
      "text/plain": [
       "array([1. , 1.1, 1.2, 1.3, 1.4, 1.5, 1.6, 1.7, 1.8, 1.9, 2. , 2.1, 2.2,\n",
       "       2.3, 2.4, 2.5, 2.6, 2.7, 2.8, 2.9, 3. , 3.1, 3.2, 3.3, 3.4, 3.5,\n",
       "       3.6, 3.7, 3.8, 3.9, 4. , 4.1, 4.2, 4.3, 4.4, 4.5, 4.6, 4.7, 4.8,\n",
       "       4.9, 5. ])"
      ]
     },
     "execution_count": 86,
     "metadata": {},
     "output_type": "execute_result"
    }
   ],
   "source": [
    "# with endpoint=True\n",
    "# [start, stop] \n",
    "\n",
    "np.linspace(1, 5, 41)"
   ]
  },
  {
   "cell_type": "markdown",
   "id": "3d6f7dcc-30db-4eef-9016-c263cfae9bf7",
   "metadata": {},
   "source": [
    "### Printing Arrays\n",
    "\n",
    "When you print an array, NumPy displays it in a similar way to nested lists, but with the following layout:\n",
    "\n",
    "* the last axis is printed from left to right,\n",
    "\n",
    "* the second-to-last is printed from top to bottom,\n",
    "\n",
    "* the rest are also printed from top to bottom, with each slice separated from the next by an empty line.\n",
    "\n",
    "One-dimensional arrays are then printed as rows, bidimensionals as matrices and tridimensionals as lists of matrices."
   ]
  },
  {
   "cell_type": "code",
   "execution_count": 88,
   "id": "d378a2f0-40fd-4947-96ce-efc9010fecbb",
   "metadata": {},
   "outputs": [
    {
     "name": "stdout",
     "output_type": "stream",
     "text": [
      "[1 2 3 4 5]\n"
     ]
    }
   ],
   "source": [
    "# 1d array\n",
    "lst_1d = np.arange(1, 6)\n",
    "print(lst_1d)"
   ]
  },
  {
   "cell_type": "code",
   "execution_count": 92,
   "id": "f8f32ad0-d23a-427c-ab76-3385267588c9",
   "metadata": {},
   "outputs": [
    {
     "name": "stdout",
     "output_type": "stream",
     "text": [
      "[[ 0  1  2]\n",
      " [ 3  4  5]\n",
      " [ 6  7  8]\n",
      " [ 9 10 11]]\n"
     ]
    }
   ],
   "source": [
    "# 2d array\n",
    "lst_2d = np.arange(12).reshape(4, 3)\n",
    "print(lst_2d)"
   ]
  },
  {
   "cell_type": "code",
   "execution_count": 94,
   "id": "8e6efd30-02d3-41ee-85f4-506aeee556cf",
   "metadata": {},
   "outputs": [
    {
     "name": "stdout",
     "output_type": "stream",
     "text": [
      "[[[ 0  1  2  3]\n",
      "  [ 4  5  6  7]\n",
      "  [ 8  9 10 11]]\n",
      "\n",
      " [[12 13 14 15]\n",
      "  [16 17 18 19]\n",
      "  [20 21 22 23]]]\n"
     ]
    }
   ],
   "source": [
    "# 3d array\n",
    "lst_3d = np.arange(24).reshape(2, 3, 4)\n",
    "print(lst_3d)"
   ]
  },
  {
   "cell_type": "markdown",
   "id": "48226aea-3366-4b71-a11d-4d3a68bf215f",
   "metadata": {},
   "source": [
    "If an array is too large to be printed, NumPy automatically skips the central part of the array and only prints the corners:"
   ]
  },
  {
   "cell_type": "code",
   "execution_count": 97,
   "id": "a96e47af-5467-410f-a645-3b24149ff04d",
   "metadata": {},
   "outputs": [
    {
     "data": {
      "text/plain": [
       "array([[   0,    1,    2, ...,   97,   98,   99],\n",
       "       [ 100,  101,  102, ...,  197,  198,  199],\n",
       "       [ 200,  201,  202, ...,  297,  298,  299],\n",
       "       ...,\n",
       "       [9700, 9701, 9702, ..., 9797, 9798, 9799],\n",
       "       [9800, 9801, 9802, ..., 9897, 9898, 9899],\n",
       "       [9900, 9901, 9902, ..., 9997, 9998, 9999]])"
      ]
     },
     "execution_count": 97,
     "metadata": {},
     "output_type": "execute_result"
    }
   ],
   "source": [
    "big_lst = np.arange(10000).reshape(100,100)\n",
    "big_lst"
   ]
  },
  {
   "cell_type": "markdown",
   "id": "40a6f695-9202-451e-987b-bf41a0baac9e",
   "metadata": {},
   "source": [
    "To disable this behaviour and force NumPy to print the entire array, you can change the printing options using `set_printoptions`."
   ]
  },
  {
   "cell_type": "code",
   "execution_count": 98,
   "id": "3092a952-78fb-43ff-986a-e4fafd51f2f9",
   "metadata": {},
   "outputs": [],
   "source": [
    "# np.set_printoptions(threshold=sys.maxsize)  # sys module should be imported"
   ]
  },
  {
   "cell_type": "markdown",
   "id": "34c5b06c-9016-4bfc-bf8c-1c248399bd2c",
   "metadata": {},
   "source": [
    "### Basic Operations\n",
    "\n",
    "Arithmetic operators on arrays apply *elementwise*. A new array is created and filled with the result.\n",
    "\n"
   ]
  },
  {
   "cell_type": "code",
   "execution_count": 101,
   "id": "abc010e3-170e-44f9-8e51-cb89c2c08ec1",
   "metadata": {},
   "outputs": [
    {
     "name": "stdout",
     "output_type": "stream",
     "text": [
      "[10 19 28 37]\n",
      "[0 1 4 9]\n",
      "[-5.44021111  9.12945251 -9.88031624  7.4511316 ]\n",
      "[ True  True False False]\n"
     ]
    }
   ],
   "source": [
    "a = np.array([10, 20, 30, 40])\n",
    "b = np.arange(4)\n",
    "\n",
    "print(a - b)\n",
    "print(b ** 2)\n",
    "print(10 * np.sin(a))\n",
    "print(a < 21)"
   ]
  },
  {
   "cell_type": "code",
   "execution_count": 108,
   "id": "f340b30c-003d-4fdc-a148-42d94ae839cc",
   "metadata": {},
   "outputs": [
    {
     "name": "stdout",
     "output_type": "stream",
     "text": [
      "elementwise\n",
      "[[2 0]\n",
      " [0 4]]\n",
      "\n",
      "matrix\n",
      "[[5 4]\n",
      " [3 4]]\n",
      "\n",
      "matrix\n",
      "[[5 4]\n",
      " [3 4]]\n"
     ]
    }
   ],
   "source": [
    "# important part with product\n",
    "A = np.array([[1, 1],\n",
    "              [0, 1]])\n",
    "\n",
    "B = np.array([[2, 0],\n",
    "             [3, 4]])\n",
    "print('elementwise')\n",
    "print(A * B)    # elementwise product\n",
    "print('\\nmatrix')\n",
    "print(A @ B)    # matrix product\n",
    "print('\\nmatrix')\n",
    "print(A.dot(B)) # another matrix product\n",
    "\n"
   ]
  },
  {
   "cell_type": "markdown",
   "id": "abe2d071-faee-4a2e-a7c2-548f13769a59",
   "metadata": {},
   "source": [
    "Some operations, such as `+=` and `*=`, act in place to **modify an existing array** rather than create a new one."
   ]
  },
  {
   "cell_type": "code",
   "execution_count": 125,
   "id": "11fa4888-456b-4eb3-a1c7-d57869371005",
   "metadata": {},
   "outputs": [],
   "source": [
    "a = np.ones([3, 4], dtype=int)\n",
    "b = np.empty([3, 4], dtype=np.float16)"
   ]
  },
  {
   "cell_type": "code",
   "execution_count": 126,
   "id": "c71b5e81-29ac-498e-bc0f-e2d0233648f5",
   "metadata": {},
   "outputs": [
    {
     "name": "stdout",
     "output_type": "stream",
     "text": [
      "before:\n",
      " [[1 1 1 1]\n",
      " [1 1 1 1]\n",
      " [1 1 1 1]]\n",
      "\n",
      "after:\n",
      " [[3 3 3 3]\n",
      " [3 3 3 3]\n",
      " [3 3 3 3]]\n"
     ]
    }
   ],
   "source": [
    "print('before:\\n', a)\n",
    "a *= 3\n",
    "print('\\nafter:\\n', a)"
   ]
  },
  {
   "cell_type": "code",
   "execution_count": 127,
   "id": "bc36b23f-d506-4c59-a956-b17566a8b0e8",
   "metadata": {},
   "outputs": [
    {
     "name": "stdout",
     "output_type": "stream",
     "text": [
      "before:\n",
      " [[ 9.     9.     9.    10.984]\n",
      " [ 9.     9.     9.    10.99 ]\n",
      " [ 9.     9.     9.    11.   ]]\n",
      "\n",
      "after:\n",
      " [[12.    12.    12.    13.984]\n",
      " [12.    12.    12.    13.99 ]\n",
      " [12.    12.    12.    14.   ]]\n"
     ]
    }
   ],
   "source": [
    "print('before:\\n', b)\n",
    "b += a\n",
    "print('\\nafter:\\n', b)"
   ]
  },
  {
   "cell_type": "code",
   "execution_count": 128,
   "id": "d91279b8-88e9-4ea0-9678-02e0c31aaf10",
   "metadata": {},
   "outputs": [
    {
     "ename": "UFuncTypeError",
     "evalue": "Cannot cast ufunc 'add' output from dtype('float64') to dtype('int64') with casting rule 'same_kind'",
     "output_type": "error",
     "traceback": [
      "\u001b[0;31m---------------------------------------------------------------------------\u001b[0m",
      "\u001b[0;31mUFuncTypeError\u001b[0m                            Traceback (most recent call last)",
      "\u001b[0;32m/tmp/ipykernel_7156/2566101432.py\u001b[0m in \u001b[0;36m<module>\u001b[0;34m\u001b[0m\n\u001b[0;32m----> 1\u001b[0;31m \u001b[0ma\u001b[0m \u001b[0;34m+=\u001b[0m \u001b[0mb\u001b[0m  \u001b[0;31m# b is not automatically converted to integer type\u001b[0m\u001b[0;34m\u001b[0m\u001b[0;34m\u001b[0m\u001b[0m\n\u001b[0m",
      "\u001b[0;31mUFuncTypeError\u001b[0m: Cannot cast ufunc 'add' output from dtype('float64') to dtype('int64') with casting rule 'same_kind'"
     ]
    }
   ],
   "source": [
    "a += b  # b is not automatically converted to integer type"
   ]
  },
  {
   "cell_type": "code",
   "execution_count": 138,
   "id": "a8f7afe5-b48f-4f48-b765-8f47bafe3923",
   "metadata": {},
   "outputs": [
    {
     "data": {
      "text/plain": [
       "'float64'"
      ]
     },
     "execution_count": 138,
     "metadata": {},
     "output_type": "execute_result"
    }
   ],
   "source": [
    "a = np.ones(3, dtype=np.int32)\n",
    "b = np.linspace(0, np.pi, 3)\n",
    "b.dtype.name"
   ]
  },
  {
   "cell_type": "code",
   "execution_count": 140,
   "id": "c34f2fbb-f70f-4e2f-bf3e-3e0793b8a613",
   "metadata": {},
   "outputs": [
    {
     "data": {
      "text/plain": [
       "array([1.        , 2.57079633, 4.14159265])"
      ]
     },
     "execution_count": 140,
     "metadata": {},
     "output_type": "execute_result"
    }
   ],
   "source": [
    "c = a + b\n",
    "c"
   ]
  },
  {
   "cell_type": "code",
   "execution_count": 141,
   "id": "f2e613ac-8f3d-4c6f-aa74-898cb3c2328d",
   "metadata": {},
   "outputs": [
    {
     "data": {
      "text/plain": [
       "'float64'"
      ]
     },
     "execution_count": 141,
     "metadata": {},
     "output_type": "execute_result"
    }
   ],
   "source": [
    "c.dtype.name"
   ]
  },
  {
   "cell_type": "code",
   "execution_count": 143,
   "id": "9c267470-5051-435b-b155-3349d5a281ad",
   "metadata": {},
   "outputs": [
    {
     "data": {
      "text/plain": [
       "array([ 0.54030231+0.84147098j, -0.84147098+0.54030231j,\n",
       "       -0.54030231-0.84147098j])"
      ]
     },
     "execution_count": 143,
     "metadata": {},
     "output_type": "execute_result"
    }
   ],
   "source": [
    "d = np.exp(c * 1j)\n",
    "d"
   ]
  },
  {
   "cell_type": "code",
   "execution_count": 144,
   "id": "02de7a07-ac2e-49a3-8309-c7088a3a2710",
   "metadata": {},
   "outputs": [
    {
     "data": {
      "text/plain": [
       "'complex128'"
      ]
     },
     "execution_count": 144,
     "metadata": {},
     "output_type": "execute_result"
    }
   ],
   "source": [
    "d.dtype.name"
   ]
  }
 ],
 "metadata": {
  "kernelspec": {
   "display_name": "ds-env",
   "language": "python",
   "name": "ds-env"
  },
  "language_info": {
   "codemirror_mode": {
    "name": "ipython",
    "version": 3
   },
   "file_extension": ".py",
   "mimetype": "text/x-python",
   "name": "python",
   "nbconvert_exporter": "python",
   "pygments_lexer": "ipython3",
   "version": "3.9.6"
  }
 },
 "nbformat": 4,
 "nbformat_minor": 5
}
