{
 "cells": [
  {
   "cell_type": "markdown",
   "id": "7a48cf2d-a468-4fcc-9390-4c778df18eb2",
   "metadata": {},
   "source": [
    "# Numpy beginner tutorial\n",
    "## This tutorial in particular repeats [numpy quickstart](https://numpy.org/devdocs/user/quickstart.html) a lot from the official site of NumPy."
   ]
  },
  {
   "cell_type": "code",
   "execution_count": 4,
   "id": "9aef3a4e-577e-4c1b-a919-7b25d8f494d3",
   "metadata": {},
   "outputs": [],
   "source": [
    "# imports\n",
    "import numpy as np\n",
    "import matplotlib.pyplot as plt\n",
    "%matplotlib inline"
   ]
  },
  {
   "cell_type": "markdown",
   "id": "66ad2954-eafd-433b-8748-a217607f2653",
   "metadata": {},
   "source": [
    "### Basics\n",
    "\n",
    "NumPy’s main object is the homogeneous multidimensional array. It is a table of elements (usually numbers), all of the same type, indexed by a tuple of non-negative integers. In NumPy dimensions are called `axes`."
   ]
  },
  {
   "cell_type": "code",
   "execution_count": 5,
   "id": "2a4bf110-f906-4469-aaab-dd6b803cea21",
   "metadata": {},
   "outputs": [
    {
     "data": {
      "text/plain": [
       "[[1.0, 0.0, 0.0], [0.0, 1.0, 0.0]]"
      ]
     },
     "execution_count": 5,
     "metadata": {},
     "output_type": "execute_result"
    }
   ],
   "source": [
    "# for example: the array has 2 axes. The first axis has a length of 2, the second axis has a length of 3.\n",
    "[[1., 0., 0.],\n",
    " [0., 1., 0.]]"
   ]
  },
  {
   "cell_type": "markdown",
   "id": "902b638b-67d2-4776-92fe-a1d22fc7aeca",
   "metadata": {},
   "source": [
    "NumPy’s array class is called `ndarray`. It is also known by the alias array. Note that `numpy.array` **is not** the same as the Standard Python Library class `array.array`"
   ]
  },
  {
   "cell_type": "markdown",
   "id": "fc89f497-51e5-4252-b13d-91e3a7272c00",
   "metadata": {},
   "source": [
    "The more important attributes of an ndarray object are:\n",
    "\n",
    "***\n",
    "\n",
    "> `ndarray.ndim`\n",
    "\n",
    "the number of axes (dimensions) of the array.\n",
    "\n",
    "> `ndarray.shape`\n",
    "\n",
    "the dimensions of the array. This is a tuple of integers indicating the size of the array in each dimension. For a matrix with n rows and m columns, `shape` will be `(n,m)`. The length of the `shape` tuple is therefore the number of axes, `ndim`.\n",
    "\n",
    "> `ndarray.size`\n",
    "\n",
    "the total number of elements of the array. This is equal to the product of the elements of `shape`.\n",
    "\n",
    "> `ndarray.dtype`\n",
    "\n",
    "an object describing the type of the elements in the array. One can create or specify dtype’s using standard Python types. **Additionally** NumPy provides types of its own. **numpy.int32, numpy.int16, and numpy.float64 are some examples**.\n",
    "\n",
    "> `ndarray.itemsize`\n",
    "\n",
    "the size in bytes of each element of the array. For example, an array of elements of type `float64` has `itemsize` 8 (=64/8), while one of type `complex32` has `itemsize 4` (=32/8). It is equivalent to `ndarray.dtype.itemsize`.\n",
    "\n",
    "> `ndarray.data`\n",
    "\n",
    "the buffer containing the actual elements of the array. Normally, we won’t need to use this attribute because we will access the elements in an array using indexing facilities.\n"
   ]
  },
  {
   "cell_type": "code",
   "execution_count": 7,
   "id": "7bbc1a99-d124-4f61-8535-d5e9f5474b30",
   "metadata": {},
   "outputs": [
    {
     "data": {
      "text/plain": [
       "array([[ 0,  1,  2,  3,  4],\n",
       "       [ 5,  6,  7,  8,  9],\n",
       "       [10, 11, 12, 13, 14]])"
      ]
     },
     "execution_count": 7,
     "metadata": {},
     "output_type": "execute_result"
    }
   ],
   "source": [
    "lst = np.arange(15).reshape(3, 5)\n",
    "lst"
   ]
  },
  {
   "cell_type": "code",
   "execution_count": 8,
   "id": "e06a33d0-2d39-4dbb-a92c-e48381f55f81",
   "metadata": {},
   "outputs": [
    {
     "data": {
      "text/plain": [
       "(3, 5)"
      ]
     },
     "execution_count": 8,
     "metadata": {},
     "output_type": "execute_result"
    }
   ],
   "source": [
    "lst.shape"
   ]
  },
  {
   "cell_type": "code",
   "execution_count": 9,
   "id": "d3027cdd-23ac-4f01-a3f4-60b5dff66d77",
   "metadata": {},
   "outputs": [
    {
     "data": {
      "text/plain": [
       "15"
      ]
     },
     "execution_count": 9,
     "metadata": {},
     "output_type": "execute_result"
    }
   ],
   "source": [
    "lst.size"
   ]
  },
  {
   "cell_type": "code",
   "execution_count": 12,
   "id": "f95479d7-9002-4d5d-b293-65779576f576",
   "metadata": {},
   "outputs": [
    {
     "data": {
      "text/plain": [
       "dtype('int64')"
      ]
     },
     "execution_count": 12,
     "metadata": {},
     "output_type": "execute_result"
    }
   ],
   "source": [
    "lst.dtype"
   ]
  },
  {
   "cell_type": "code",
   "execution_count": 13,
   "id": "d8c9884e-4b34-4a8f-a190-870c4e00154f",
   "metadata": {},
   "outputs": [
    {
     "data": {
      "text/plain": [
       "8"
      ]
     },
     "execution_count": 13,
     "metadata": {},
     "output_type": "execute_result"
    }
   ],
   "source": [
    "lst.itemsize"
   ]
  },
  {
   "cell_type": "code",
   "execution_count": 15,
   "id": "f08ec918-86fb-40d5-893d-3fd9ca7d6de0",
   "metadata": {},
   "outputs": [
    {
     "data": {
      "text/plain": [
       "<memory at 0x7f45eb476110>"
      ]
     },
     "execution_count": 15,
     "metadata": {},
     "output_type": "execute_result"
    }
   ],
   "source": [
    "lst.data"
   ]
  },
  {
   "cell_type": "code",
   "execution_count": 16,
   "id": "b0d374fe-53b1-4e97-964d-30cabd7540f5",
   "metadata": {},
   "outputs": [
    {
     "data": {
      "text/plain": [
       "numpy.ndarray"
      ]
     },
     "execution_count": 16,
     "metadata": {},
     "output_type": "execute_result"
    }
   ],
   "source": [
    "type(lst)"
   ]
  },
  {
   "cell_type": "code",
   "execution_count": 20,
   "id": "ec38f112-062b-485b-b502-b5e69d515ba9",
   "metadata": {},
   "outputs": [
    {
     "data": {
      "text/plain": [
       "array([1, 2, 3, 4])"
      ]
     },
     "execution_count": 20,
     "metadata": {},
     "output_type": "execute_result"
    }
   ],
   "source": [
    "# create numpy array\n",
    "basic_lst = [1, 2, 3, 4]\n",
    "own_lst = np.array(basic_lst)\n",
    "\n",
    "own_lst"
   ]
  },
  {
   "cell_type": "code",
   "execution_count": 19,
   "id": "761a1ace-5704-4b09-97fc-28f548af13c4",
   "metadata": {},
   "outputs": [
    {
     "data": {
      "text/plain": [
       "numpy.ndarray"
      ]
     },
     "execution_count": 19,
     "metadata": {},
     "output_type": "execute_result"
    }
   ],
   "source": [
    "type(own_lst)"
   ]
  },
  {
   "cell_type": "markdown",
   "id": "efda7af9-db91-47d1-992f-29612e41e9b3",
   "metadata": {},
   "source": [
    "### Array Creation"
   ]
  },
  {
   "cell_type": "code",
   "execution_count": 24,
   "id": "859d98fb-87d1-4139-8f40-823e3378a8f9",
   "metadata": {},
   "outputs": [
    {
     "data": {
      "text/plain": [
       "array([1, 2, 3])"
      ]
     },
     "execution_count": 24,
     "metadata": {},
     "output_type": "execute_result"
    }
   ],
   "source": [
    "# create array using np.array function\n",
    "int_lst = np.array([1, 2, 3])\n",
    "int_lst"
   ]
  },
  {
   "cell_type": "code",
   "execution_count": 23,
   "id": "8f50e653-4372-4714-a08e-b4f0f7ba0548",
   "metadata": {},
   "outputs": [
    {
     "data": {
      "text/plain": [
       "dtype('int64')"
      ]
     },
     "execution_count": 23,
     "metadata": {},
     "output_type": "execute_result"
    }
   ],
   "source": [
    "int_lst.dtype"
   ]
  },
  {
   "cell_type": "code",
   "execution_count": 26,
   "id": "9353ea42-bfd0-4149-b9ce-0512466f4864",
   "metadata": {},
   "outputs": [
    {
     "data": {
      "text/plain": [
       "array([1., 2., 3.])"
      ]
     },
     "execution_count": 26,
     "metadata": {},
     "output_type": "execute_result"
    }
   ],
   "source": [
    "float_lst = np.array([1., 2., 3.])\n",
    "float_lst"
   ]
  },
  {
   "cell_type": "code",
   "execution_count": 27,
   "id": "8284bced-7d72-4828-b72a-5dc5df35d136",
   "metadata": {},
   "outputs": [
    {
     "data": {
      "text/plain": [
       "dtype('float64')"
      ]
     },
     "execution_count": 27,
     "metadata": {},
     "output_type": "execute_result"
    }
   ],
   "source": [
    "float_lst.dtype"
   ]
  },
  {
   "cell_type": "markdown",
   "id": "e4b62d98-002d-4937-b093-9a752a40e22d",
   "metadata": {},
   "source": [
    "A frequent error consists in calling `array` with multiple arguments, rather than providing a single sequence as an argument."
   ]
  },
  {
   "cell_type": "code",
   "execution_count": 29,
   "id": "db819ea5-d690-4701-9745-f213d6e4e821",
   "metadata": {},
   "outputs": [
    {
     "ename": "TypeError",
     "evalue": "array() takes from 1 to 2 positional arguments but 4 were given",
     "output_type": "error",
     "traceback": [
      "\u001b[0;31m---------------------------------------------------------------------------\u001b[0m",
      "\u001b[0;31mTypeError\u001b[0m                                 Traceback (most recent call last)",
      "\u001b[0;32m/tmp/ipykernel_5692/332102503.py\u001b[0m in \u001b[0;36m<module>\u001b[0;34m\u001b[0m\n\u001b[1;32m      1\u001b[0m \u001b[0;31m# WRONG\u001b[0m\u001b[0;34m\u001b[0m\u001b[0;34m\u001b[0m\u001b[0;34m\u001b[0m\u001b[0m\n\u001b[0;32m----> 2\u001b[0;31m \u001b[0mnp\u001b[0m\u001b[0;34m.\u001b[0m\u001b[0marray\u001b[0m\u001b[0;34m(\u001b[0m\u001b[0;36m1\u001b[0m\u001b[0;34m,\u001b[0m \u001b[0;36m2\u001b[0m\u001b[0;34m,\u001b[0m \u001b[0;36m3\u001b[0m\u001b[0;34m,\u001b[0m \u001b[0;36m4\u001b[0m\u001b[0;34m)\u001b[0m\u001b[0;34m\u001b[0m\u001b[0;34m\u001b[0m\u001b[0m\n\u001b[0m",
      "\u001b[0;31mTypeError\u001b[0m: array() takes from 1 to 2 positional arguments but 4 were given"
     ]
    }
   ],
   "source": [
    "# WRONG\n",
    "np.array(1, 2, 3, 4)"
   ]
  },
  {
   "cell_type": "code",
   "execution_count": 30,
   "id": "9df5497b-9198-4844-b373-2e43e562f74f",
   "metadata": {},
   "outputs": [
    {
     "data": {
      "text/plain": [
       "array([1, 2, 3, 4, 5])"
      ]
     },
     "execution_count": 30,
     "metadata": {},
     "output_type": "execute_result"
    }
   ],
   "source": [
    "# RIGHT\n",
    "np.array([1, 2, 3, 4, 5])"
   ]
  },
  {
   "cell_type": "markdown",
   "id": "3bbf4a00-2ec9-406e-b6d7-6d4ed0611298",
   "metadata": {},
   "source": [
    "`array` transforms sequences of sequences into two-dimensional arrays, sequences of sequences of sequences into three-dimensional arrays, and so on."
   ]
  },
  {
   "cell_type": "code",
   "execution_count": 36,
   "id": "4a7eb788-ab42-4430-ad14-1326a2438ed2",
   "metadata": {},
   "outputs": [
    {
     "data": {
      "text/plain": [
       "array([[1, 2, 3],\n",
       "       [4, 5, 6]])"
      ]
     },
     "execution_count": 36,
     "metadata": {},
     "output_type": "execute_result"
    }
   ],
   "source": [
    "# like tuples\n",
    "lst_2dim = np.array([(1, 2, 3), (4, 5, 6)])\n",
    "lst_2dim"
   ]
  },
  {
   "cell_type": "code",
   "execution_count": 37,
   "id": "82fae115-284b-490a-b6ee-fb4a43ab2345",
   "metadata": {},
   "outputs": [
    {
     "data": {
      "text/plain": [
       "array([[1, 2, 3],\n",
       "       [4, 5, 6]])"
      ]
     },
     "execution_count": 37,
     "metadata": {},
     "output_type": "execute_result"
    }
   ],
   "source": [
    "# like list\n",
    "lst_2dim = np.array([[1, 2, 3], [4, 5, 6]])\n",
    "lst_2dim"
   ]
  },
  {
   "cell_type": "code",
   "execution_count": 38,
   "id": "ecbe3d03-a315-4cd0-b6da-31b8110ce321",
   "metadata": {},
   "outputs": [
    {
     "data": {
      "text/plain": [
       "2"
      ]
     },
     "execution_count": 38,
     "metadata": {},
     "output_type": "execute_result"
    }
   ],
   "source": [
    "lst_2dim.ndim"
   ]
  },
  {
   "cell_type": "code",
   "execution_count": 40,
   "id": "bf337c51-5b6a-4acb-aa4f-1ddb3510d4b8",
   "metadata": {},
   "outputs": [
    {
     "data": {
      "text/plain": [
       "array([1.+0.j, 2.+0.j, 3.+0.j, 4.+0.j])"
      ]
     },
     "execution_count": 40,
     "metadata": {},
     "output_type": "execute_result"
    }
   ],
   "source": [
    "#The type of the array can also be explicitly specified at creation time:\n",
    "complex_lst = np.array([1, 2, 3, 4], dtype=complex)\n",
    "complex_lst"
   ]
  },
  {
   "cell_type": "code",
   "execution_count": null,
   "id": "135f64ac-3b63-4c32-8107-c1579fa8bbfc",
   "metadata": {},
   "outputs": [],
   "source": []
  }
 ],
 "metadata": {
  "kernelspec": {
   "display_name": "ds-env",
   "language": "python",
   "name": "ds-env"
  },
  "language_info": {
   "codemirror_mode": {
    "name": "ipython",
    "version": 3
   },
   "file_extension": ".py",
   "mimetype": "text/x-python",
   "name": "python",
   "nbconvert_exporter": "python",
   "pygments_lexer": "ipython3",
   "version": "3.9.6"
  }
 },
 "nbformat": 4,
 "nbformat_minor": 5
}
